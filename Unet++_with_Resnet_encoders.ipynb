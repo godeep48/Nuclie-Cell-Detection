{
  "nbformat": 4,
  "nbformat_minor": 0,
  "metadata": {
    "colab": {
      "name": "Unet ++ with resnet encoders.ipynb",
      "provenance": []
    },
    "kernelspec": {
      "name": "python3",
      "display_name": "Python 3"
    },
    "language_info": {
      "name": "python"
    },
    "accelerator": "GPU"
  },
  "cells": [
    {
      "cell_type": "markdown",
      "source": [
        "# Mount drive to colab"
      ],
      "metadata": {
        "id": "_NmFQXgHmSBo"
      }
    },
    {
      "cell_type": "code",
      "source": [
        "from google.colab import drive\n",
        "drive.mount('/content/drive')"
      ],
      "metadata": {
        "colab": {
          "base_uri": "https://localhost:8080/"
        },
        "id": "Mb0kl0h2mQ7-",
        "outputId": "0429b5d2-df0a-44e5-b94a-620ee7e8d412"
      },
      "execution_count": 1,
      "outputs": [
        {
          "output_type": "stream",
          "name": "stdout",
          "text": [
            "Mounted at /content/drive\n"
          ]
        }
      ]
    },
    {
      "cell_type": "code",
      "source": [
        "#Copy the zip dataset file to root folder for faster execution\n",
        "!cp drive/My\\ Drive/Nuclie\\ Cell\\ Detection/stage1_train.zip /content/"
      ],
      "metadata": {
        "id": "AwZzq6Jxmf_d"
      },
      "execution_count": 2,
      "outputs": []
    },
    {
      "cell_type": "code",
      "execution_count": 3,
      "metadata": {
        "colab": {
          "base_uri": "https://localhost:8080/"
        },
        "id": "7R1G8bkzmExF",
        "outputId": "b1006782-8eb9-4092-dff7-58c9357dfe14"
      },
      "outputs": [
        {
          "output_type": "stream",
          "name": "stdout",
          "text": [
            "\u001b[0m\u001b[01;34mdrive\u001b[0m/  \u001b[01;34msample_data\u001b[0m/  stage1_train.zip\n"
          ]
        }
      ],
      "source": [
        "ls"
      ]
    },
    {
      "cell_type": "markdown",
      "source": [
        "# Unzip the training dataset zip file"
      ],
      "metadata": {
        "id": "2B1Kr2J2mz-X"
      }
    },
    {
      "cell_type": "code",
      "source": [
        "from zipfile import ZipFile\n",
        "file_name = \"stage1_train.zip\"\n",
        "with ZipFile(file_name, 'r') as zip: \n",
        "    print('Extracting the files') \n",
        "    zip.extractall(\"stage1_train\") \n",
        "    print('Done!')"
      ],
      "metadata": {
        "colab": {
          "base_uri": "https://localhost:8080/"
        },
        "id": "8tshpdQ3mOGT",
        "outputId": "0f864661-0a04-4859-cce2-2ec8d76e708c"
      },
      "execution_count": 4,
      "outputs": [
        {
          "output_type": "stream",
          "name": "stdout",
          "text": [
            "Extracting the files\n",
            "Done!\n"
          ]
        }
      ]
    },
    {
      "cell_type": "code",
      "source": [
        "ls"
      ],
      "metadata": {
        "colab": {
          "base_uri": "https://localhost:8080/"
        },
        "id": "QEn5HeSWm6Vu",
        "outputId": "2fa55cd0-9faf-48e8-db7a-10cfd7be74a0"
      },
      "execution_count": 5,
      "outputs": [
        {
          "output_type": "stream",
          "name": "stdout",
          "text": [
            "\u001b[0m\u001b[01;34mdrive\u001b[0m/  \u001b[01;34msample_data\u001b[0m/  \u001b[01;34mstage1_train\u001b[0m/  stage1_train.zip\n"
          ]
        }
      ]
    },
    {
      "cell_type": "markdown",
      "source": [
        "# Installing and Importing necessary libraries"
      ],
      "metadata": {
        "id": "4R10giYqnK6q"
      }
    },
    {
      "cell_type": "code",
      "source": [
        "!pip install -q albumentations==0.4.6"
      ],
      "metadata": {
        "colab": {
          "base_uri": "https://localhost:8080/"
        },
        "id": "b4laE2N7nIBj",
        "outputId": "421d8bc6-fa1f-4093-8f5b-27b9a1d05912"
      },
      "execution_count": 6,
      "outputs": [
        {
          "output_type": "stream",
          "name": "stdout",
          "text": [
            "\u001b[K     |████████████████████████████████| 117 kB 5.4 MB/s \n",
            "\u001b[K     |████████████████████████████████| 948 kB 43.4 MB/s \n",
            "\u001b[?25h  Building wheel for albumentations (setup.py) ... \u001b[?25l\u001b[?25hdone\n"
          ]
        }
      ]
    },
    {
      "cell_type": "code",
      "source": [
        "import os\n",
        "import glob\n",
        "import time\n",
        "import copy\n",
        "from collections import defaultdict\n",
        "import torch\n",
        "import shutil\n",
        "import pandas as pd\n",
        "from skimage import io, transform\n",
        "import numpy as np\n",
        "from PIL import Image\n",
        "import matplotlib.pyplot as plt\n",
        "from torch.utils.data import Dataset, DataLoader, random_split\n",
        "from torchvision import transforms, utils\n",
        "from torch import nn\n",
        "import albumentations as A\n",
        "from albumentations.pytorch import ToTensor\n",
        "#import tqdm as tqdm\n",
        "from tqdm import tqdm as tqdm\n",
        "\n",
        "from albumentations import (HorizontalFlip, ShiftScaleRotate, Normalize, Resize, Compose, GaussNoise)\n",
        "import cv2\n",
        "\n",
        "from torch.autograd import Variable\n",
        "from torch.nn import Linear, ReLU, CrossEntropyLoss, Sequential, Conv2d, MaxPool2d, Module, Softmax, BatchNorm2d, Dropout\n",
        "from torch.optim import Adam, SGD\n",
        "import torch.nn.functional as F\n",
        "from PIL import Image\n",
        "from torch import nn\n",
        "import zipfile\n",
        "\n",
        "import random\n",
        "\n",
        "device = torch.device('cuda:0' if torch.cuda.is_available() else 'cpu')"
      ],
      "metadata": {
        "id": "SIDqXVqSnRlE"
      },
      "execution_count": 7,
      "outputs": []
    },
    {
      "cell_type": "code",
      "source": [
        "TRAIN_PATH = 'stage1_train/'"
      ],
      "metadata": {
        "id": "4vtfc6GNnTvS"
      },
      "execution_count": 8,
      "outputs": []
    },
    {
      "cell_type": "code",
      "source": [
        "lenData = len(os.listdir(TRAIN_PATH))\n",
        "print(\"Total Number of Images: {}\".format(lenData))"
      ],
      "metadata": {
        "colab": {
          "base_uri": "https://localhost:8080/"
        },
        "id": "BjHcZ-5PnWNW",
        "outputId": "4ebe78ad-fdc2-4adc-c96b-06306ac779a5"
      },
      "execution_count": 9,
      "outputs": [
        {
          "output_type": "stream",
          "name": "stdout",
          "text": [
            "Total Number of Images: 670\n"
          ]
        }
      ]
    },
    {
      "cell_type": "code",
      "source": [
        "# Check whether there is any empty data directories\n",
        "dirList = glob.glob('stage1_train/*')\n",
        "countNull = 0\n",
        "nullDirList = []\n",
        "for dir in dirList:\n",
        "    lenDir = glob.glob(dir+'/*')\n",
        "    if lenDir==0:\n",
        "        countNull+=1\n",
        "        nullDirList.append(dir)\n",
        "\n",
        "print(\"Number of directory having no images: {}\".format(countNull))"
      ],
      "metadata": {
        "colab": {
          "base_uri": "https://localhost:8080/"
        },
        "id": "dtH7ruMEnYJ5",
        "outputId": "150c0896-83b1-4e50-c6a3-08e1e8235006"
      },
      "execution_count": 10,
      "outputs": [
        {
          "output_type": "stream",
          "name": "stdout",
          "text": [
            "Number of directory having no images: 0\n"
          ]
        }
      ]
    },
    {
      "cell_type": "markdown",
      "source": [
        "# Data Loader pipeline"
      ],
      "metadata": {
        "id": "5P0WjCLcnmVk"
      }
    },
    {
      "cell_type": "code",
      "source": [
        "#Albumentation\n",
        "def get_train_transform():\n",
        "   return A.Compose(\n",
        "       [\n",
        "        A.Resize(256, 256),\n",
        "        A.Normalize(mean=(0.485, 0.456, 0.406), std=(0.229, 0.224, 0.225)),\n",
        "        A.HorizontalFlip(p=0.25),\n",
        "        A.VerticalFlip(p=0.25),\n",
        "        ToTensor()\n",
        "        ])\n",
        "   \n",
        "#Dataset Loader\n",
        "class LoadDataSet(Dataset):\n",
        "        def __init__(self,path, transform=None):\n",
        "            self.path = path\n",
        "            self.folders = os.listdir(path)\n",
        "            self.transforms = get_train_transform()\n",
        "        \n",
        "        def __len__(self):\n",
        "            return len(self.folders)\n",
        "              \n",
        "        \n",
        "        def __getitem__(self,idx):\n",
        "            image_folder = os.path.join(self.path,self.folders[idx],'images/')\n",
        "            mask_folder = os.path.join(self.path,self.folders[idx],'masks/')\n",
        "            image_path = os.path.join(image_folder,os.listdir(image_folder)[0])\n",
        "            \n",
        "            img = io.imread(image_path)[:,:,:3].astype('float32')\n",
        "            img = transform.resize(img,(128,128))\n",
        "            \n",
        "            mask = self.get_mask(mask_folder, 128, 128 ).astype('float32')\n",
        "\n",
        "            augmented = self.transforms(image=img, mask=mask)\n",
        "            img = augmented['image']\n",
        "            mask = augmented['mask']\n",
        "            mask = mask[0].permute(2, 0, 1)\n",
        "            return (img,mask) \n",
        "\n",
        "\n",
        "        def get_mask(self,mask_folder,IMG_HEIGHT, IMG_WIDTH):\n",
        "            mask = np.zeros((IMG_HEIGHT, IMG_WIDTH, 1), dtype=np.bool)\n",
        "            for mask_ in os.listdir(mask_folder):\n",
        "                    mask_ = io.imread(os.path.join(mask_folder,mask_))\n",
        "                    mask_ = transform.resize(mask_, (IMG_HEIGHT, IMG_WIDTH))\n",
        "                    mask_ = np.expand_dims(mask_,axis=-1)\n",
        "                    mask = np.maximum(mask, mask_)\n",
        "              \n",
        "            return mask"
      ],
      "metadata": {
        "id": "u5gEMTIyniSk"
      },
      "execution_count": 11,
      "outputs": []
    },
    {
      "cell_type": "code",
      "source": [
        "train_dataset = LoadDataSet(TRAIN_PATH, transform=get_train_transform())"
      ],
      "metadata": {
        "id": "KQEzZlwenkp3"
      },
      "execution_count": 12,
      "outputs": []
    },
    {
      "cell_type": "code",
      "source": [
        "#Print the shape of image and mask\n",
        "image, mask = train_dataset.__getitem__(0)\n",
        "print(image.shape)\n",
        "print(mask.shape)"
      ],
      "metadata": {
        "colab": {
          "base_uri": "https://localhost:8080/"
        },
        "id": "DdWRvmNZnqbU",
        "outputId": "826540fb-b744-47db-8967-d67733805cbb"
      },
      "execution_count": 13,
      "outputs": [
        {
          "output_type": "stream",
          "name": "stdout",
          "text": [
            "torch.Size([3, 256, 256])\n",
            "torch.Size([1, 256, 256])\n"
          ]
        }
      ]
    },
    {
      "cell_type": "code",
      "source": [
        "## Length of train dataset\n",
        "print(\"Number of Train dataset: {}\".format(train_dataset.__len__()))"
      ],
      "metadata": {
        "colab": {
          "base_uri": "https://localhost:8080/"
        },
        "id": "SD_oYrecnrdS",
        "outputId": "68e65222-20cd-4895-81e8-c6c6f1bbdd97"
      },
      "execution_count": 14,
      "outputs": [
        {
          "output_type": "stream",
          "name": "stdout",
          "text": [
            "Number of Train dataset: 670\n"
          ]
        }
      ]
    },
    {
      "cell_type": "code",
      "source": [
        "image"
      ],
      "metadata": {
        "colab": {
          "base_uri": "https://localhost:8080/"
        },
        "id": "o1MH8cAjnsp_",
        "outputId": "7be601e1-cdf7-402e-ad52-0c2a99bb6bcb"
      },
      "execution_count": 15,
      "outputs": [
        {
          "output_type": "execute_result",
          "data": {
            "text/plain": [
              "tensor([[[-1.6841, -1.6877, -1.6948,  ..., -2.0158, -2.0182, -2.0194],\n",
              "         [-1.6764, -1.6807, -1.6895,  ..., -2.0169, -2.0185, -2.0192],\n",
              "         [-1.6608, -1.6669, -1.6789,  ..., -2.0191, -2.0190, -2.0189],\n",
              "         ...,\n",
              "         [-2.0077, -2.0075, -2.0069,  ..., -1.6005, -1.5987, -1.5978],\n",
              "         [-2.0084, -2.0079, -2.0070,  ..., -1.6067, -1.5994, -1.5957],\n",
              "         [-2.0087, -2.0082, -2.0071,  ..., -1.6098, -1.5997, -1.5946]],\n",
              "\n",
              "        [[-1.5923, -1.5959, -1.6031,  ..., -1.9314, -1.9338, -1.9350],\n",
              "         [-1.5843, -1.5888, -1.5977,  ..., -1.9325, -1.9340, -1.9348],\n",
              "         [-1.5685, -1.5746, -1.5870,  ..., -1.9347, -1.9346, -1.9345],\n",
              "         ...,\n",
              "         [-1.9231, -1.9228, -1.9223,  ..., -1.5068, -1.5049, -1.5040],\n",
              "         [-1.9237, -1.9233, -1.9224,  ..., -1.5131, -1.5056, -1.5019],\n",
              "         [-1.9241, -1.9235, -1.9224,  ..., -1.5162, -1.5059, -1.5008]],\n",
              "\n",
              "        [[-1.3630, -1.3666, -1.3738,  ..., -1.7006, -1.7030, -1.7042],\n",
              "         [-1.3551, -1.3595, -1.3684,  ..., -1.7017, -1.7032, -1.7040],\n",
              "         [-1.3393, -1.3454, -1.3577,  ..., -1.7039, -1.7038, -1.7037],\n",
              "         ...,\n",
              "         [-1.6923, -1.6920, -1.6915,  ..., -1.2779, -1.2760, -1.2751],\n",
              "         [-1.6930, -1.6925, -1.6916,  ..., -1.2841, -1.2767, -1.2730],\n",
              "         [-1.6933, -1.6927, -1.6916,  ..., -1.2873, -1.2770, -1.2719]]])"
            ]
          },
          "metadata": {},
          "execution_count": 15
        }
      ]
    },
    {
      "cell_type": "code",
      "source": [
        "mask"
      ],
      "metadata": {
        "colab": {
          "base_uri": "https://localhost:8080/"
        },
        "id": "Njh_bGcAnuEc",
        "outputId": "eaca634b-6773-41e0-b94b-fa805f6f1949"
      },
      "execution_count": 16,
      "outputs": [
        {
          "output_type": "execute_result",
          "data": {
            "text/plain": [
              "tensor([[[1., 1., 1.,  ..., 0., 0., 0.],\n",
              "         [1., 1., 1.,  ..., 0., 0., 0.],\n",
              "         [1., 1., 1.,  ..., 0., 0., 0.],\n",
              "         ...,\n",
              "         [0., 0., 0.,  ..., 1., 1., 1.],\n",
              "         [0., 0., 0.,  ..., 1., 1., 1.],\n",
              "         [0., 0., 0.,  ..., 1., 1., 1.]]])"
            ]
          },
          "metadata": {},
          "execution_count": 16
        }
      ]
    },
    {
      "cell_type": "code",
      "source": [
        "def format_image(img):\n",
        "    \"\"\"\n",
        "    Function to de-standardize the image\n",
        "    arg: Input Image\n",
        "    returns: De-standardized image\n",
        "    \"\"\"\n",
        "    img = np.array(np.transpose(img, (1,2,0)))\n",
        "    mean = np.array((0.485, 0.456, 0.406))\n",
        "    std = np.array((0.229, 0.224, 0.225))\n",
        "    img  = std * img + mean\n",
        "    img = img*255\n",
        "    img = img.astype(np.uint8)\n",
        "    return img\n",
        "\n",
        "def format_mask(mask):\n",
        "    \"\"\"\n",
        "    Function to reshape the mask\n",
        "    \"\"\"\n",
        "    mask = np.squeeze(np.transpose(mask, (1,2,0)))\n",
        "    return mask"
      ],
      "metadata": {
        "id": "UfaFhMxmnurU"
      },
      "execution_count": 17,
      "outputs": []
    },
    {
      "cell_type": "code",
      "source": [
        "def visualize_dataset(n_images, predict=None):\n",
        "  \"\"\"\n",
        "  Function to visualize images and masks\n",
        "  \"\"\"\n",
        "  maxRange = train_dataset.__len__()\n",
        "  images = random.sample(range(0, maxRange), n_images)\n",
        "  figure, ax = plt.subplots(nrows=len(images), ncols=2, figsize=(5, 8))\n",
        "  print(images)\n",
        "  for i in range(0, len(images)):\n",
        "    img_no = images[i]\n",
        "    image, mask = train_dataset.__getitem__(img_no)\n",
        "    image = format_image(image)\n",
        "    mask = format_mask(mask)\n",
        "    ax[i, 0].imshow(image)\n",
        "    ax[i, 1].imshow(mask, interpolation=\"nearest\", cmap=\"gray\")\n",
        "    ax[i, 0].set_title(\"Ground Truth Image\")\n",
        "    ax[i, 1].set_title(\"Mask\")\n",
        "    ax[i, 0].set_axis_off()\n",
        "    ax[i, 1].set_axis_off()\n",
        "  plt.tight_layout()\n",
        "  plt.show()"
      ],
      "metadata": {
        "id": "JWneAe9Mnw8k"
      },
      "execution_count": 18,
      "outputs": []
    },
    {
      "cell_type": "code",
      "source": [
        "visualize_dataset(3)"
      ],
      "metadata": {
        "colab": {
          "base_uri": "https://localhost:8080/",
          "height": 603
        },
        "id": "Fuye3xaFnyP_",
        "outputId": "fe72ad5a-681e-4ce9-8574-2b8fddf54174"
      },
      "execution_count": 19,
      "outputs": [
        {
          "output_type": "stream",
          "name": "stdout",
          "text": [
            "[99, 19, 490]\n"
          ]
        },
        {
          "output_type": "display_data",
          "data": {
            "image/png": "[encoded data removed]",
            "text/plain": [
              "<Figure size 360x576 with 6 Axes>"
            ]
          },
          "metadata": {
            "needs_background": "light"
          }
        }
      ]
    },
    {
      "cell_type": "markdown",
      "source": [
        "## Train Test Split"
      ],
      "metadata": {
        "id": "x6EVTfnQn4Vl"
      }
    },
    {
      "cell_type": "code",
      "source": [
        "## Split train and validation set.\n",
        "train_data, valid_data = random_split(train_dataset, [469, 201])\n",
        "\n",
        "train_loader = DataLoader(dataset=train_data, batch_size=10, shuffle=True)\n",
        "\n",
        "val_loader = DataLoader(dataset=valid_data, batch_size=10)"
      ],
      "metadata": {
        "id": "GGSjveNfnzYJ"
      },
      "execution_count": 20,
      "outputs": []
    },
    {
      "cell_type": "markdown",
      "source": [
        "# Defining Model - Unet++ with residual encoders"
      ],
      "metadata": {
        "id": "FWknsro0n9Dh"
      }
    },
    {
      "cell_type": "code",
      "source": [
        "class ResidualConv(nn.Module):\n",
        "    def __init__(self, input_dim, output_dim, stride, padding):\n",
        "        super(ResidualConv, self).__init__()\n",
        "\n",
        "        self.conv_block = nn.Sequential(\n",
        "            nn.BatchNorm2d(input_dim),\n",
        "            nn.ReLU(),\n",
        "            nn.Conv2d(\n",
        "                input_dim, output_dim, kernel_size=3, stride=stride, padding=padding\n",
        "            ),\n",
        "            nn.BatchNorm2d(output_dim),\n",
        "            nn.ReLU(),\n",
        "            nn.Conv2d(output_dim, output_dim, kernel_size=3, padding=1),\n",
        "        )\n",
        "        self.conv_skip = nn.Sequential(\n",
        "            nn.Conv2d(input_dim, output_dim, kernel_size=3, stride=stride, padding=1),\n",
        "            nn.BatchNorm2d(output_dim),\n",
        "        )\n",
        "\n",
        "    def forward(self, x):\n",
        "\n",
        "        return self.conv_block(x) + self.conv_skip(x)\n",
        "\n",
        "class ASPP(nn.Module):\n",
        "    def __init__(self, in_dims, out_dims, rate=[6, 12, 18]):\n",
        "        super(ASPP, self).__init__()\n",
        "\n",
        "        self.aspp_block1 = nn.Sequential(\n",
        "            nn.Conv2d(\n",
        "                in_dims, out_dims, 3, stride=1, padding=rate[0], dilation=rate[0]\n",
        "            ),\n",
        "            nn.ReLU(inplace=True),\n",
        "            nn.BatchNorm2d(out_dims),\n",
        "        )\n",
        "        self.aspp_block2 = nn.Sequential(\n",
        "            nn.Conv2d(\n",
        "                in_dims, out_dims, 3, stride=1, padding=rate[1], dilation=rate[1]\n",
        "            ),\n",
        "            nn.ReLU(inplace=True),\n",
        "            nn.BatchNorm2d(out_dims),\n",
        "        )\n",
        "        self.aspp_block3 = nn.Sequential(\n",
        "            nn.Conv2d(\n",
        "                in_dims, out_dims, 3, stride=1, padding=rate[2], dilation=rate[2]\n",
        "            ),\n",
        "            nn.ReLU(inplace=True),\n",
        "            nn.BatchNorm2d(out_dims),\n",
        "        )\n",
        "\n",
        "        self.output = nn.Conv2d(len(rate) * out_dims, out_dims, 1)\n",
        "        self._init_weights()\n",
        "\n",
        "    def forward(self, x):\n",
        "        x1 = self.aspp_block1(x)\n",
        "        x2 = self.aspp_block2(x)\n",
        "        x3 = self.aspp_block3(x)\n",
        "        out = torch.cat([x1, x2, x3], dim=1)\n",
        "        return self.output(out)\n",
        "\n",
        "    def _init_weights(self):\n",
        "        for m in self.modules():\n",
        "            if isinstance(m, nn.Conv2d):\n",
        "                nn.init.kaiming_normal_(m.weight)\n",
        "            elif isinstance(m, nn.BatchNorm2d):\n",
        "                m.weight.data.fill_(1)\n",
        "                m.bias.data.zero_()\n",
        "\n",
        "\n",
        "class AttentionBlock(nn.Module):\n",
        "    def __init__(self, input_encoder, input_decoder, output_dim):\n",
        "        super(AttentionBlock, self).__init__()\n",
        "\n",
        "        self.conv_encoder = nn.Sequential(\n",
        "            nn.BatchNorm2d(input_encoder),\n",
        "            nn.ReLU(),\n",
        "            nn.Conv2d(input_encoder, output_dim, 3, padding=1),\n",
        "            nn.MaxPool2d(2, 2),\n",
        "        )\n",
        "\n",
        "        self.conv_decoder = nn.Sequential(\n",
        "            nn.BatchNorm2d(input_decoder),\n",
        "            nn.ReLU(),\n",
        "            nn.Conv2d(input_decoder, output_dim, 3, padding=1),\n",
        "        )\n",
        "\n",
        "        self.conv_attn = nn.Sequential(\n",
        "            nn.BatchNorm2d(output_dim),\n",
        "            nn.ReLU(),\n",
        "            nn.Conv2d(output_dim, 1, 1),\n",
        "        )\n",
        "\n",
        "    def forward(self, x1, x2):\n",
        "        out = self.conv_encoder(x1) + self.conv_decoder(x2)\n",
        "        out = self.conv_attn(out)\n",
        "        return out * x2\n",
        "\n",
        "\n",
        "class Upsample(nn.Module):\n",
        "    def __init__(self, input_dim, output_dim, kernel, stride):\n",
        "        super(Upsample, self).__init__()\n",
        "\n",
        "        self.upsample = nn.ConvTranspose2d(\n",
        "            input_dim, output_dim, kernel_size=kernel, stride=stride\n",
        "        )\n",
        "\n",
        "    def forward(self, x):\n",
        "        return self.upsample(x)\n",
        "\n",
        "\n",
        "class Upsample_(nn.Module):\n",
        "    def __init__(self, scale=2):\n",
        "        super(Upsample_, self).__init__()\n",
        "\n",
        "        self.upsample = nn.Upsample(mode=\"bilinear\", scale_factor=scale, align_corners=True)\n",
        "\n",
        "    def forward(self, x):\n",
        "        return self.upsample(x)\n",
        "\n",
        "\n",
        "class Squeeze_Excite_Block(nn.Module):\n",
        "    def __init__(self, channel, reduction=16):\n",
        "        super(Squeeze_Excite_Block, self).__init__()\n",
        "        self.avg_pool = nn.AdaptiveAvgPool2d(1)\n",
        "        self.fc = nn.Sequential(\n",
        "            nn.Linear(channel, channel // reduction, bias=False),\n",
        "            nn.ReLU(inplace=True),\n",
        "            nn.Linear(channel // reduction, channel, bias=False),\n",
        "            nn.Sigmoid(),\n",
        "        )\n",
        "\n",
        "    def forward(self, x):\n",
        "        b, c, _, _ = x.size()\n",
        "        y = self.avg_pool(x).view(b, c)\n",
        "        y = self.fc(y).view(b, c, 1, 1)\n",
        "        return x * y.expand_as(x)\n",
        "\n",
        "\n",
        "class ResUnetPlusPlus(nn.Module):\n",
        "    def __init__(self, channel, filters=[32, 64, 128, 256, 512]):\n",
        "        super(ResUnetPlusPlus, self).__init__()\n",
        "\n",
        "        self.input_layer = nn.Sequential(\n",
        "            nn.Conv2d(channel, filters[0], kernel_size=3, padding=1),\n",
        "            nn.BatchNorm2d(filters[0]),\n",
        "            nn.ReLU(),\n",
        "            nn.Conv2d(filters[0], filters[0], kernel_size=3, padding=1),\n",
        "        )\n",
        "        self.input_skip = nn.Sequential(\n",
        "            nn.Conv2d(channel, filters[0], kernel_size=3, padding=1)\n",
        "        )\n",
        "\n",
        "        self.squeeze_excite1 = Squeeze_Excite_Block(filters[0])\n",
        "\n",
        "        self.residual_conv1 = ResidualConv(filters[0], filters[1], 2, 1)\n",
        "\n",
        "        self.squeeze_excite2 = Squeeze_Excite_Block(filters[1])\n",
        "\n",
        "        self.residual_conv2 = ResidualConv(filters[1], filters[2], 2, 1)\n",
        "\n",
        "        self.squeeze_excite3 = Squeeze_Excite_Block(filters[2])\n",
        "\n",
        "        self.residual_conv3 = ResidualConv(filters[2], filters[3], 2, 1)\n",
        "\n",
        "        self.aspp_bridge = ASPP(filters[3], filters[4])\n",
        "\n",
        "        self.attn1 = AttentionBlock(filters[2], filters[4], filters[4])\n",
        "        self.upsample1 = Upsample_(2)\n",
        "        self.up_residual_conv1 = ResidualConv(filters[4] + filters[2], filters[3], 1, 1)\n",
        "\n",
        "        self.attn2 = AttentionBlock(filters[1], filters[3], filters[3])\n",
        "        self.upsample2 = Upsample_(2)\n",
        "        self.up_residual_conv2 = ResidualConv(filters[3] + filters[1], filters[2], 1, 1)\n",
        "\n",
        "        self.attn3 = AttentionBlock(filters[0], filters[2], filters[2])\n",
        "        self.upsample3 = Upsample_(2)\n",
        "        self.up_residual_conv3 = ResidualConv(filters[2] + filters[0], filters[1], 1, 1)\n",
        "\n",
        "        self.aspp_out = ASPP(filters[1], filters[0])\n",
        "\n",
        "        self.output_layer = nn.Sequential(nn.Conv2d(filters[0], 1, 1), nn.Sigmoid())\n",
        "\n",
        "    def forward(self, x):\n",
        "        x1 = self.input_layer(x) + self.input_skip(x)\n",
        "\n",
        "        x2 = self.squeeze_excite1(x1)\n",
        "        x2 = self.residual_conv1(x2)\n",
        "\n",
        "        x3 = self.squeeze_excite2(x2)\n",
        "        x3 = self.residual_conv2(x3)\n",
        "\n",
        "        x4 = self.squeeze_excite3(x3)\n",
        "        x4 = self.residual_conv3(x4)\n",
        "\n",
        "        x5 = self.aspp_bridge(x4)\n",
        "\n",
        "        x6 = self.attn1(x3, x5)\n",
        "        x6 = self.upsample1(x6)\n",
        "        x6 = torch.cat([x6, x3], dim=1)\n",
        "        x6 = self.up_residual_conv1(x6)\n",
        "\n",
        "        x7 = self.attn2(x2, x6)\n",
        "        x7 = self.upsample2(x7)\n",
        "        x7 = torch.cat([x7, x2], dim=1)\n",
        "        x7 = self.up_residual_conv2(x7)\n",
        "\n",
        "        x8 = self.attn3(x1, x7)\n",
        "        x8 = self.upsample3(x8)\n",
        "        x8 = torch.cat([x8, x1], dim=1)\n",
        "        x8 = self.up_residual_conv3(x8)\n",
        "\n",
        "        x9 = self.aspp_out(x8)\n",
        "        out = self.output_layer(x9)\n",
        "\n",
        "        return out"
      ],
      "metadata": {
        "id": "I8Y44Ysln3U1"
      },
      "execution_count": 21,
      "outputs": []
    },
    {
      "cell_type": "markdown",
      "source": [
        "## Defining Loss function"
      ],
      "metadata": {
        "id": "d5WOajb5o0N5"
      }
    },
    {
      "cell_type": "code",
      "source": [
        "class DiceLoss(nn.Module):\n",
        "    def __init__(self, weight=None, size_average=True):\n",
        "        super(DiceLoss, self).__init__()\n",
        "\n",
        "    def forward(self, inputs, targets, smooth=1):\n",
        "        \n",
        "        #comment out if your model contains a sigmoid or equivalent activation layer\n",
        "        #inputs = F.sigmoid(inputs)       \n",
        "        \n",
        "        #flatten label and prediction tensors\n",
        "        inputs = inputs.view(-1)\n",
        "        targets = targets.view(-1)\n",
        "        \n",
        "        intersection = (inputs * targets).sum()                            \n",
        "        dice = (2.*intersection + smooth)/(inputs.sum() + targets.sum() + smooth)  \n",
        "        \n",
        "        return 1 - dice\n",
        "\n",
        "\n",
        "class IoU(nn.Module):\n",
        "    def __init__(self, weight=None, size_average=True):\n",
        "        super(IoU, self).__init__()\n",
        "\n",
        "    def forward(self, inputs, targets, smooth=1):\n",
        "        \n",
        "        #comment out if your model contains a sigmoid or equivalent activation layer\n",
        "        #inputs = F.sigmoid(inputs)       \n",
        "        \n",
        "        #flatten label and prediction tensors\n",
        "        inputs = inputs.view(-1)\n",
        "        targets = targets.view(-1)\n",
        "        \n",
        "        #intersection is equivalent to True Positive count\n",
        "        #union is the mutually inclusive area of all labels & predictions \n",
        "        intersection = (inputs * targets).sum()\n",
        "        total = (inputs + targets).sum()\n",
        "        union = total - intersection \n",
        "        \n",
        "        IoU = (intersection + smooth)/(union + smooth)\n",
        "                \n",
        "        return IoU"
      ],
      "metadata": {
        "id": "cWV9sItoozfV"
      },
      "execution_count": 22,
      "outputs": []
    },
    {
      "cell_type": "code",
      "source": [
        "model = ResUnetPlusPlus(3).cuda()\n",
        "optimizer = torch.optim.Adam(model.parameters(),lr = 1e-3)"
      ],
      "metadata": {
        "id": "SIXF2ZRUo2To"
      },
      "execution_count": 23,
      "outputs": []
    },
    {
      "cell_type": "code",
      "source": [
        "def save_ckp(state, is_best, checkpoint_path, best_model_path):\n",
        "    \"\"\"\n",
        "    state: checkpoint we want to save\n",
        "    is_best: is this the best checkpoint; min validation loss\n",
        "    checkpoint_path: path to save checkpoint\n",
        "    best_model_path: path to save best model\n",
        "    \"\"\"\n",
        "    f_path = checkpoint_path\n",
        "    # save checkpoint data to the path given, checkpoint_path\n",
        "    torch.save(state, f_path)\n",
        "    # if it is a best model, min validation loss\n",
        "    if is_best:\n",
        "        best_fpath = best_model_path\n",
        "        # copy that checkpoint file to best path given, best_model_path\n",
        "        shutil.copyfile(f_path, best_fpath)\n",
        "\n",
        "def load_ckp(checkpoint_fpath, model, optimizer):\n",
        "    \"\"\"\n",
        "    checkpoint_path: path to save checkpoint\n",
        "    model: model that we want to load checkpoint parameters into       \n",
        "    optimizer: optimizer we defined in previous training\n",
        "    \"\"\"\n",
        "    # load check point\n",
        "    checkpoint = torch.load(checkpoint_fpath)\n",
        "    # initialize state_dict from checkpoint to model\n",
        "    model.load_state_dict(checkpoint['state_dict'])\n",
        "    # initialize optimizer from checkpoint to optimizer\n",
        "    optimizer.load_state_dict(checkpoint['optimizer'])\n",
        "    # initialize valid_loss_min from checkpoint to valid_loss_min\n",
        "    valid_loss_min = checkpoint['valid_loss_min']\n",
        "    # return model, optimizer, epoch value, min validation loss \n",
        "    return model, optimizer, checkpoint['epoch'], valid_loss_min.item()"
      ],
      "metadata": {
        "id": "G-fV10XDo4Sp"
      },
      "execution_count": 24,
      "outputs": []
    },
    {
      "cell_type": "code",
      "source": [
        "weight_path = 'model_weight'\n",
        "if not os.path.exists(weight_path):\n",
        "  os.makedirs(weight_path)"
      ],
      "metadata": {
        "id": "i37wfMr7o73h"
      },
      "execution_count": 25,
      "outputs": []
    },
    {
      "cell_type": "code",
      "source": [
        "#from engine import evaluate\n",
        "criterion = DiceLoss()\n",
        "accuracy_metric = IoU()\n",
        "num_epochs=50\n",
        "valid_loss_min = np.Inf\n",
        "\n",
        "checkpoint_path = 'model_weight/chkpoint_'\n",
        "best_model_path = 'model_weight/bestmodel.pt'\n",
        "\n",
        "total_train_loss = []\n",
        "total_train_score = []\n",
        "total_valid_loss = []\n",
        "total_valid_score = []\n",
        "\n",
        "losses_value = 0\n",
        "for epoch in range(num_epochs):\n",
        "  \n",
        "    train_loss = []\n",
        "    train_score = []\n",
        "    valid_loss = []\n",
        "    valid_score = []\n",
        "    #<-----------Training Loop---------------------------->\n",
        "    pbar = tqdm(train_loader, desc = 'description')\n",
        "    for x_train, y_train in pbar:\n",
        "      x_train = torch.autograd.Variable(x_train).cuda()\n",
        "      y_train = torch.autograd.Variable(y_train).cuda()\n",
        "      optimizer.zero_grad()\n",
        "      output = model(x_train)\n",
        "      #Loss\n",
        "      loss = criterion(output, y_train)\n",
        "      losses_value = loss.item()\n",
        "      #Score\n",
        "      score = accuracy_metric(output,y_train)\n",
        "      loss.backward()\n",
        "      optimizer.step()\n",
        "      train_loss.append(losses_value)\n",
        "      train_score.append(score.item())\n",
        "      #train_score.append(score)\n",
        "      pbar.set_description(f\"Epoch: {epoch+1}, loss: {losses_value}, IoU: {score}\")\n",
        "\n",
        "    #<---------------Validation Loop---------------------->\n",
        "    with torch.no_grad():\n",
        "      for image,mask in val_loader:\n",
        "        image = torch.autograd.Variable(image).cuda()\n",
        "        mask = torch.autograd.Variable(mask).cuda()\n",
        "        output = model(image)\n",
        "        ## Compute Loss Value.\n",
        "        loss = criterion(output, mask)\n",
        "        losses_value = loss.item()\n",
        "        ## Compute Accuracy Score\n",
        "        score = accuracy_metric(output,mask)\n",
        "        valid_loss.append(losses_value)\n",
        "        valid_score.append(score.item())\n",
        "\n",
        "    total_train_loss.append(np.mean(train_loss))\n",
        "    total_train_score.append(np.mean(train_score))\n",
        "    total_valid_loss.append(np.mean(valid_loss))\n",
        "    total_valid_score.append(np.mean(valid_score))\n",
        "    print(f\"\\n###############Train Loss: {total_train_loss[-1]}, Train IOU: {total_train_score[-1]}###############\")\n",
        "    print(f\"###############Valid Loss: {total_valid_loss[-1]}, Valid IOU: {total_valid_score[-1]}###############\")\n",
        "\n",
        "    #Save best model Checkpoint\n",
        "    # create checkpoint variable and add important data\n",
        "    checkpoint = {\n",
        "        'epoch': epoch + 1,\n",
        "        'valid_loss_min': total_valid_loss[-1],\n",
        "        'state_dict': model.state_dict(),\n",
        "        'optimizer': optimizer.state_dict(),\n",
        "    }\n",
        "    \n",
        "    # save checkpoint\n",
        "    save_ckp(checkpoint, False, checkpoint_path, best_model_path)\n",
        "    \n",
        "    ## TODO: save the model if validation loss has decreased\n",
        "    if total_valid_loss[-1] <= valid_loss_min:\n",
        "        print('Validation loss decreased ({:.6f} --> {:.6f}).  Saving model ...'.format(valid_loss_min,total_valid_loss[-1]))\n",
        "        # save checkpoint as best model\n",
        "        save_ckp(checkpoint, True, checkpoint_path, best_model_path)\n",
        "        valid_loss_min = total_valid_loss[-1]"
      ],
      "metadata": {
        "colab": {
          "base_uri": "https://localhost:8080/"
        },
        "id": "fLnIp7ZopGDq",
        "outputId": "5ad54aaa-58bc-460d-f493-7255196d11b8"
      },
      "execution_count": null,
      "outputs": [
        {
          "output_type": "stream",
          "name": "stderr",
          "text": [
            "Epoch: 1, loss: 0.6434277892112732, IoU: 0.2169700562953949: 100%|██████████| 47/47 [08:17<00:00, 10.59s/it]\n"
          ]
        },
        {
          "output_type": "stream",
          "name": "stdout",
          "text": [
            "\n",
            "###############Train Loss: 0.5434500004382844, Train IOU: 0.3057550385277322###############\n",
            "###############Valid Loss: 0.3460451563199361, Valid IOU: 0.49533306275095257###############\n",
            "Validation loss decreased (inf --> 0.346045).  Saving model ...\n"
          ]
        },
        {
          "output_type": "stream",
          "name": "stderr",
          "text": [
            "Epoch: 2, loss: 0.24114370346069336, IoU: 0.6114193797111511: 100%|██████████| 47/47 [07:54<00:00, 10.09s/it]\n"
          ]
        },
        {
          "output_type": "stream",
          "name": "stdout",
          "text": [
            "\n",
            "###############Train Loss: 0.30845822425598796, Train IOU: 0.5388727689043005###############\n",
            "###############Valid Loss: 0.23225100267501103, Valid IOU: 0.6288281083106995###############\n",
            "Validation loss decreased (0.346045 --> 0.232251).  Saving model ...\n"
          ]
        },
        {
          "output_type": "stream",
          "name": "stderr",
          "text": [
            "Epoch: 3, loss: 0.14032214879989624, IoU: 0.7538915276527405: 100%|██████████| 47/47 [07:54<00:00, 10.09s/it]\n"
          ]
        },
        {
          "output_type": "stream",
          "name": "stdout",
          "text": [
            "\n",
            "###############Train Loss: 0.20253499644867917, Train IOU: 0.6651337869623875###############\n",
            "###############Valid Loss: 0.19571385497138613, Valid IOU: 0.6751243003777095###############\n",
            "Validation loss decreased (0.232251 --> 0.195714).  Saving model ...\n"
          ]
        },
        {
          "output_type": "stream",
          "name": "stderr",
          "text": [
            "Epoch: 4, loss: 0.16700422763824463, IoU: 0.7137921452522278: 100%|██████████| 47/47 [07:52<00:00, 10.05s/it]\n"
          ]
        },
        {
          "output_type": "stream",
          "name": "stdout",
          "text": [
            "\n",
            "###############Train Loss: 0.19322211184400193, Train IOU: 0.6799545706586635###############\n",
            "###############Valid Loss: 0.1783402363459269, Valid IOU: 0.7006918163526625###############\n",
            "Validation loss decreased (0.195714 --> 0.178340).  Saving model ...\n"
          ]
        },
        {
          "output_type": "stream",
          "name": "stderr",
          "text": [
            "Epoch: 5, loss: 0.1797899603843689, IoU: 0.6952183842658997: 100%|██████████| 47/47 [07:51<00:00, 10.04s/it]\n"
          ]
        },
        {
          "output_type": "stream",
          "name": "stdout",
          "text": [
            "\n",
            "###############Train Loss: 0.17549408243057577, Train IOU: 0.7043429866750189###############\n",
            "###############Valid Loss: 0.1700092696008228, Valid IOU: 0.7121623172646477###############\n",
            "Validation loss decreased (0.178340 --> 0.170009).  Saving model ...\n"
          ]
        },
        {
          "output_type": "stream",
          "name": "stderr",
          "text": [
            "Epoch: 6, loss: 0.14801573753356934, IoU: 0.7421382665634155: 100%|██████████| 47/47 [07:52<00:00, 10.06s/it]\n"
          ]
        },
        {
          "output_type": "stream",
          "name": "stdout",
          "text": [
            "\n",
            "###############Train Loss: 0.15810352563858032, Train IOU: 0.7286008976875468###############\n",
            "###############Valid Loss: 0.16384539717719668, Valid IOU: 0.7215828838802519###############\n",
            "Validation loss decreased (0.170009 --> 0.163845).  Saving model ...\n"
          ]
        },
        {
          "output_type": "stream",
          "name": "stderr",
          "text": [
            "Epoch: 7, loss: 0.17340087890625, IoU: 0.7044490575790405:  40%|████      | 19/47 [03:27<05:03, 10.83s/it]"
          ]
        }
      ]
    },
    {
      "cell_type": "markdown",
      "source": [
        "## Visualization"
      ],
      "metadata": {
        "id": "MDjG_YUZt7q_"
      }
    },
    {
      "cell_type": "code",
      "source": [
        "import seaborn as sns\n",
        "\n",
        "plt.figure(1)\n",
        "plt.figure(figsize=(15,5))\n",
        "sns.set_style(style=\"darkgrid\")\n",
        "plt.subplot(1, 2, 1)\n",
        "sns.lineplot(x=range(1,51), y=total_train_loss, label=\"Train Loss\")\n",
        "sns.lineplot(x=range(1,51), y=total_valid_loss, label=\"Valid Loss\")\n",
        "plt.title(\"Loss\")\n",
        "plt.xlabel(\"epochs\")\n",
        "plt.ylabel(\"DiceLoss\")\n",
        "\n",
        "plt.subplot(1, 2, 2)\n",
        "sns.lineplot(x=range(1,51), y=total_train_score, label=\"Train Score\")\n",
        "sns.lineplot(x=range(1,51), y=total_valid_score, label=\"Valid Score\")\n",
        "plt.title(\"Score (IoU)\")\n",
        "plt.xlabel(\"epochs\")\n",
        "plt.ylabel(\"IoU\")\n",
        "plt.show()"
      ],
      "metadata": {
        "id": "AZ5FvLE5pQMt"
      },
      "execution_count": null,
      "outputs": []
    },
    {
      "cell_type": "markdown",
      "source": [
        "# Inference"
      ],
      "metadata": {
        "id": "WaNqdfKzuCgZ"
      }
    },
    {
      "cell_type": "code",
      "source": [
        "#loading the saved model\n",
        "model, optimizer, start_epoch, valid_loss_min = load_ckp(checkpoint_path, model, optimizer)"
      ],
      "metadata": {
        "id": "lasMn4uht--t"
      },
      "execution_count": null,
      "outputs": []
    },
    {
      "cell_type": "code",
      "source": [
        "def visualize_predict(model, n_images):\n",
        "  #model = model.eval()\n",
        "  figure, ax = plt.subplots(nrows=n_images, ncols=3, figsize=(15, 18))\n",
        "  with torch.no_grad():\n",
        "    for data,mask in val_loader:\n",
        "        data = torch.autograd.Variable(data, volatile=True).cuda()\n",
        "        mask = torch.autograd.Variable(mask, volatile=True).cuda()\n",
        "        o = model(data)\n",
        "        break\n",
        "  for img_no in range(0, n_images):\n",
        "    tm=o[img_no][0].data.cpu().numpy()\n",
        "    img = data[img_no].data.cpu()\n",
        "    msk = mask[img_no].data.cpu()\n",
        "    img = format_image(img)\n",
        "    msk = format_mask(msk)\n",
        "    ax[img_no, 0].imshow(img)\n",
        "    ax[img_no, 1].imshow(msk, interpolation=\"nearest\", cmap=\"gray\")\n",
        "    ax[img_no, 2].imshow(tm, interpolation=\"nearest\", cmap=\"gray\")\n",
        "    ax[img_no, 0].set_title(\"Ground Truth Image\")\n",
        "    ax[img_no, 1].set_title(\"Ground Truth Mask\")\n",
        "    ax[img_no, 2].set_title(\"Predicted Mask\")\n",
        "    ax[img_no, 0].set_axis_off()\n",
        "    ax[img_no, 1].set_axis_off()\n",
        "    ax[img_no, 2].set_axis_off()\n",
        "  plt.tight_layout()\n",
        "  plt.show()"
      ],
      "metadata": {
        "id": "BGzccoq8uD5i"
      },
      "execution_count": null,
      "outputs": []
    },
    {
      "cell_type": "code",
      "source": [
        "visualize_predict(model, 6)"
      ],
      "metadata": {
        "id": "BoYqy6WDuO3u"
      },
      "execution_count": null,
      "outputs": []
    },
    {
      "cell_type": "code",
      "source": [
        ""
      ],
      "metadata": {
        "id": "FfolETJ6uQra"
      },
      "execution_count": null,
      "outputs": []
    }
  ]
}