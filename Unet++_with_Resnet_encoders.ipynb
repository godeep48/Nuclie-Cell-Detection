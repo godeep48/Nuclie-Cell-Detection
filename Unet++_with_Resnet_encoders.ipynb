{
 "cells": [
  {
   "cell_type": "code",
   "execution_count": 1,
   "metadata": {
    "colab": {
     "base_uri": "https://localhost:8080/"
    },
    "id": "DAcStMTKfdl8",
    "outputId": "cd60b748-4572-4584-a5d6-647850cb23f7"
   },
   "outputs": [
    {
     "name": "stdout",
     "output_type": "stream",
     "text": [
      "Drive already mounted at /content/gdrive; to attempt to forcibly remount, call drive.mount(\"/content/gdrive\", force_remount=True).\n"
     ]
    }
   ],
   "source": [
    "from google.colab import drive\n",
    "drive.mount('/content/gdrive')"
   ]
  },
  {
   "cell_type": "code",
   "execution_count": 2,
   "metadata": {
    "colab": {
     "base_uri": "https://localhost:8080/"
    },
    "id": "rDneuPjyfqDy",
    "outputId": "5d9e6875-b4bd-4a27-e103-60fb733e1761"
   },
   "outputs": [
    {
     "name": "stdout",
     "output_type": "stream",
     "text": [
      "/content/gdrive/My Drive/unet/data\n"
     ]
    }
   ],
   "source": [
    "cd /content/gdrive/My\\ Drive/unet/data"
   ]
  },
  {
   "cell_type": "code",
   "execution_count": 3,
   "metadata": {
    "id": "PQPwb_WihTNw"
   },
   "outputs": [],
   "source": [
    "#!pip install albumentations==0.4.6"
   ]
  },
  {
   "cell_type": "code",
   "execution_count": 4,
   "metadata": {
    "id": "Za5qXlYdf2MB"
   },
   "outputs": [],
   "source": [
    "import os\n",
    "import time\n",
    "import copy\n",
    "from collections import defaultdict\n",
    "import torch\n",
    "import shutil\n",
    "import pandas as pd\n",
    "from skimage import io, transform\n",
    "import numpy as np\n",
    "from PIL import Image\n",
    "import matplotlib.pyplot as plt\n",
    "from torch.utils.data import Dataset, DataLoader, random_split\n",
    "from torchvision import transforms, utils\n",
    "from torch import nn\n",
    "import albumentations as A\n",
    "from albumentations.pytorch import ToTensor\n",
    "#import tqdm as tqdm\n",
    "from tqdm import tqdm as tqdm\n",
    "\n",
    "from albumentations import (HorizontalFlip, ShiftScaleRotate, Normalize, Resize, Compose, GaussNoise)\n",
    "import cv2\n",
    "\n",
    "from torch.autograd import Variable\n",
    "from torch.nn import Linear, ReLU, CrossEntropyLoss, Sequential, Conv2d, MaxPool2d, Module, Softmax, BatchNorm2d, Dropout\n",
    "from torch.optim import Adam, SGD\n",
    "import torch.nn.functional as F\n",
    "from PIL import Image\n",
    "from torch import nn\n",
    "import zipfile\n",
    "\n",
    "import random\n",
    "\n",
    "device = torch.device('cuda:0' if torch.cuda.is_available() else 'cpu')"
   ]
  },
  {
   "cell_type": "code",
   "execution_count": 5,
   "metadata": {
    "id": "MAdenqlZgAOG"
   },
   "outputs": [],
   "source": [
    "TRAIN_PATH = '/content/gdrive/My Drive/unet/data/'"
   ]
  },
  {
   "cell_type": "code",
   "execution_count": 6,
   "metadata": {
    "colab": {
     "base_uri": "https://localhost:8080/"
    },
    "id": "EvYgm_Yt6YEf",
    "outputId": "64217709-2d9b-468f-f164-9c4f63f5fd41"
   },
   "outputs": [
    {
     "name": "stdout",
     "output_type": "stream",
     "text": [
      "Total number of images: 2691\n",
      "Total number of mask: 2691\n"
     ]
    }
   ],
   "source": [
    "print(f\"Total number of images: {len(os.listdir(os.path.join(TRAIN_PATH, 'images')))}\")\n",
    "print(f\"Total number of mask: {len(os.listdir(os.path.join(TRAIN_PATH, 'masks')))}\")"
   ]
  },
  {
   "cell_type": "code",
   "execution_count": 7,
   "metadata": {
    "id": "8AmJq5VwgN9Y"
   },
   "outputs": [],
   "source": [
    "def preprocess_mask(mask):\n",
    "    #mask = np.array(mask).astype(np.float32)\n",
    "    mask[mask != 255.0] = 0.0\n",
    "    mask[mask==255]=1.0\n",
    "    return mask\n",
    "\n",
    "def get_train_transform():\n",
    "   return A.Compose(\n",
    "       [\n",
    "        A.Resize(256, 256),\n",
    "        A.Normalize(mean=(0.485, 0.456, 0.406), std=(0.229, 0.224, 0.225)),\n",
    "        A.HorizontalFlip(p=0.25),\n",
    "        A.VerticalFlip(p=0.25),\n",
    "        ToTensor()\n",
    "        ])\n",
    "\n",
    "class LoadDataSet(Dataset):\n",
    "    def __init__(self, path, transform=None):\n",
    "      #super().__init__()\n",
    "      self.path = path\n",
    "      self.images_folder = os.path.join(path, \"images\")\n",
    "      self.masks_folder = os.path.join(path, \"masks\")\n",
    "      self.transform = transform\n",
    "      self.images_ids = os.listdir(self.images_folder)\n",
    "        \n",
    "    def __getitem__(self, idx):\n",
    "\n",
    "      image_dir = [self.images_folder+\"/\"+ids for ids in self.images_ids]\n",
    "      mask_dir = [self.masks_folder+\"/\"+ids[:-7]+\"mask_buffered.png\" for ids in self.images_ids]\n",
    "      image_name = image_dir[idx]\n",
    "      mask_name = mask_dir[idx]\n",
    "      \n",
    "      img = io.imread(image_name)[:,:,:3].astype('float32')\n",
    "      mask = io.imread(mask_name).astype('float32')\n",
    "      mask = preprocess_mask(mask)\n",
    "\n",
    "      transformed = self.transform(image=img, mask=mask)\n",
    "      img = transformed['image']\n",
    "      mask = transformed['mask']\n",
    "      #img = np.transpose(img, (2,0,1))\n",
    "      #mask = np.transpose(mask, (2,0,1))\n",
    "\n",
    "      return img, mask#, image_name\n",
    "\n",
    "    def __len__(self) -> int:\n",
    "        return len(self.images_ids)"
   ]
  },
  {
   "cell_type": "code",
   "execution_count": 8,
   "metadata": {
    "id": "0liGc7jdgZkp"
   },
   "outputs": [],
   "source": [
    "train_dataset = LoadDataSet(TRAIN_PATH, transform=get_train_transform())"
   ]
  },
  {
   "cell_type": "code",
   "execution_count": 9,
   "metadata": {
    "colab": {
     "base_uri": "https://localhost:8080/"
    },
    "id": "vNIQCV55ggcm",
    "outputId": "b668b5d3-896a-49cb-d117-79f26dc2a3b2"
   },
   "outputs": [
    {
     "name": "stdout",
     "output_type": "stream",
     "text": [
      "torch.Size([3, 256, 256])\n",
      "torch.Size([1, 256, 256])\n"
     ]
    }
   ],
   "source": [
    "image, mask = train_dataset.__getitem__(0)\n",
    "print(image.shape)\n",
    "print(mask.shape)"
   ]
  },
  {
   "cell_type": "code",
   "execution_count": 10,
   "metadata": {
    "colab": {
     "base_uri": "https://localhost:8080/"
    },
    "id": "V7I_QWjHgyzq",
    "outputId": "a535b145-bdca-4376-8628-e2d34015aba0"
   },
   "outputs": [
    {
     "data": {
      "text/plain": [
       "2691"
      ]
     },
     "execution_count": 10,
     "metadata": {
      "tags": []
     },
     "output_type": "execute_result"
    }
   ],
   "source": [
    "train_dataset.__len__()"
   ]
  },
  {
   "cell_type": "code",
   "execution_count": 11,
   "metadata": {
    "colab": {
     "base_uri": "https://localhost:8080/"
    },
    "id": "Mm1w5PgfJe2H",
    "outputId": "b1929fc1-901f-4959-ee21-881adf977f0d"
   },
   "outputs": [
    {
     "data": {
      "text/plain": [
       "tensor([[[ 0.6435,  0.6948,  0.8532,  ...,  0.0783,  0.1768,  0.0698],\n",
       "         [ 0.7676,  1.2086,  1.1486,  ..., -0.2085,  0.5493,  0.6049],\n",
       "         [ 0.9217,  1.3713,  0.9474,  ...,  0.1340,  0.6691,  0.5407],\n",
       "         ...,\n",
       "         [ 0.1811,  0.1212,  0.0655,  ...,  1.5125,  1.4655,  1.4269],\n",
       "         [-0.2385, -0.3155, -0.3112,  ...,  1.5297,  1.4740,  1.4269],\n",
       "         [-0.3284, -0.5467, -0.5296,  ...,  1.4226,  1.4697,  1.4911]],\n",
       "\n",
       "        [[ 0.1570,  0.2096,  0.3715,  ...,  0.1395,  0.2139,  0.1045],\n",
       "         [ 0.2052,  0.6560,  0.6385,  ..., -0.2237,  0.5509,  0.6078],\n",
       "         [ 0.2927,  0.7610,  0.3540,  ...,  0.0826,  0.6122,  0.4371],\n",
       "         ...,\n",
       "         [ 0.1395,  0.0783,  0.0389,  ...,  1.9559,  1.9077,  1.8683],\n",
       "         [-0.2500, -0.3332, -0.3113,  ...,  1.9734,  1.9165,  1.8683],\n",
       "         [-0.3200, -0.5345, -0.4995,  ...,  1.8640,  1.9121,  1.9340]],\n",
       "\n",
       "        [[-0.3535, -0.3012, -0.1400,  ..., -0.8851, -0.7936, -0.9025],\n",
       "         [-0.2794,  0.1694,  0.1346,  ..., -1.2119, -0.4406, -0.3840],\n",
       "         [-0.1661,  0.3001, -0.1182,  ..., -0.8938, -0.3622, -0.5190],\n",
       "         ...,\n",
       "         [-0.1705, -0.1966, -0.2445,  ...,  2.1694,  2.1215,  2.0823],\n",
       "         [-0.5539, -0.6149, -0.5844,  ...,  2.1868,  2.1302,  2.0823],\n",
       "         [-0.6280, -0.8241, -0.7892,  ...,  2.0779,  2.1258,  2.1476]]])"
      ]
     },
     "execution_count": 11,
     "metadata": {
      "tags": []
     },
     "output_type": "execute_result"
    }
   ],
   "source": [
    "image"
   ]
  },
  {
   "cell_type": "code",
   "execution_count": 12,
   "metadata": {
    "colab": {
     "base_uri": "https://localhost:8080/"
    },
    "id": "DPU7om__Jgfn",
    "outputId": "1dd8e4a0-781e-4a3e-e615-1f813ab93d91"
   },
   "outputs": [
    {
     "data": {
      "text/plain": [
       "tensor([[[0., 0., 0.,  ..., 0., 0., 0.],\n",
       "         [0., 0., 0.,  ..., 0., 0., 0.],\n",
       "         [0., 0., 0.,  ..., 0., 0., 0.],\n",
       "         ...,\n",
       "         [0., 0., 0.,  ..., 1., 1., 1.],\n",
       "         [0., 0., 0.,  ..., 1., 1., 1.],\n",
       "         [0., 0., 0.,  ..., 1., 1., 1.]]])"
      ]
     },
     "execution_count": 12,
     "metadata": {
      "tags": []
     },
     "output_type": "execute_result"
    }
   ],
   "source": [
    "mask"
   ]
  },
  {
   "cell_type": "code",
   "execution_count": 13,
   "metadata": {
    "id": "aN9LOfbdhjvb"
   },
   "outputs": [],
   "source": [
    "def format_image(img):\n",
    "    img = np.array(np.transpose(img, (1,2,0)))\n",
    "    mean=np.array((0.485, 0.456, 0.406))\n",
    "    std=np.array((0.229, 0.224, 0.225))\n",
    "    img  = std * img + mean\n",
    "    img = img*255\n",
    "    img = img.astype(np.uint8)\n",
    "    return img\n",
    "def format_mask(mask):\n",
    "    mask = np.squeeze(np.transpose(mask, (1,2,0)))\n",
    "    return mask"
   ]
  },
  {
   "cell_type": "code",
   "execution_count": 14,
   "metadata": {
    "id": "4dG--LYOte5I"
   },
   "outputs": [],
   "source": [
    "def visualize_dataset(n_images, predict=None):\n",
    "  \"\"\"\n",
    "  Function to visualize images and masks\n",
    "  \"\"\"\n",
    "  images = random.sample(range(0, 2691), n_images)\n",
    "  figure, ax = plt.subplots(nrows=len(images), ncols=2, figsize=(5, 8))\n",
    "  print(images)\n",
    "  for i in range(0, len(images)):\n",
    "    img_no = images[i]\n",
    "    image, mask = train_dataset.__getitem__(img_no)\n",
    "    image = format_image(image)\n",
    "    mask = format_mask(mask)\n",
    "    ax[i, 0].imshow(image)\n",
    "    ax[i, 1].imshow(mask, interpolation=\"nearest\", cmap=\"gray\")\n",
    "    ax[i, 0].set_title(\"Ground Truth Image\")\n",
    "    ax[i, 1].set_title(\"Mask\")\n",
    "    ax[i, 0].set_axis_off()\n",
    "    ax[i, 1].set_axis_off()\n",
    "  plt.tight_layout()\n",
    "  plt.show()"
   ]
  },
  {
   "cell_type": "code",
   "execution_count": 15,
   "metadata": {
    "colab": {
     "base_uri": "https://localhost:8080/",
     "height": 603
    },
    "id": "DAJQ6cIZiqPL",
    "outputId": "909a45df-3a8b-40cb-b041-1a75b674c2f0"
   },
   "outputs": [
    {
     "name": "stdout",
     "output_type": "stream",
     "text": [
      "[58, 1144, 534]\n"
     ]
    },
    {
     "data": {
      "image/png": "[encoded data removed]",
      "text/plain": [
       "<Figure size 360x576 with 6 Axes>"
      ]
     },
     "metadata": {
      "needs_background": "light",
      "tags": []
     },
     "output_type": "display_data"
    }
   ],
   "source": [
    "visualize_dataset(3)"
   ]
  },
  {
   "cell_type": "code",
   "execution_count": 16,
   "metadata": {
    "id": "fbZp8B0bufHv"
   },
   "outputs": [],
   "source": [
    "## Split train and validation set.\n",
    "train_data, valid_data = random_split(train_dataset, [2000, 691]) #2491, 200\n",
    "\n",
    "train_loader = DataLoader(dataset=train_data, batch_size=10, shuffle=True)\n",
    "\n",
    "val_loader = DataLoader(dataset=valid_data, batch_size=10)"
   ]
  },
  {
   "cell_type": "code",
   "execution_count": 17,
   "metadata": {
    "id": "7GvbympaH_nK"
   },
   "outputs": [],
   "source": [
    "class ResidualConv(nn.Module):\n",
    "    def __init__(self, input_dim, output_dim, stride, padding):\n",
    "        super(ResidualConv, self).__init__()\n",
    "\n",
    "        self.conv_block = nn.Sequential(\n",
    "            nn.BatchNorm2d(input_dim),\n",
    "            nn.ReLU(),\n",
    "            nn.Conv2d(\n",
    "                input_dim, output_dim, kernel_size=3, stride=stride, padding=padding\n",
    "            ),\n",
    "            nn.BatchNorm2d(output_dim),\n",
    "            nn.ReLU(),\n",
    "            nn.Conv2d(output_dim, output_dim, kernel_size=3, padding=1),\n",
    "        )\n",
    "        self.conv_skip = nn.Sequential(\n",
    "            nn.Conv2d(input_dim, output_dim, kernel_size=3, stride=stride, padding=1),\n",
    "            nn.BatchNorm2d(output_dim),\n",
    "        )\n",
    "\n",
    "    def forward(self, x):\n",
    "\n",
    "        return self.conv_block(x) + self.conv_skip(x)\n",
    "\n",
    "class ASPP(nn.Module):\n",
    "    def __init__(self, in_dims, out_dims, rate=[6, 12, 18]):\n",
    "        super(ASPP, self).__init__()\n",
    "\n",
    "        self.aspp_block1 = nn.Sequential(\n",
    "            nn.Conv2d(\n",
    "                in_dims, out_dims, 3, stride=1, padding=rate[0], dilation=rate[0]\n",
    "            ),\n",
    "            nn.ReLU(inplace=True),\n",
    "            nn.BatchNorm2d(out_dims),\n",
    "        )\n",
    "        self.aspp_block2 = nn.Sequential(\n",
    "            nn.Conv2d(\n",
    "                in_dims, out_dims, 3, stride=1, padding=rate[1], dilation=rate[1]\n",
    "            ),\n",
    "            nn.ReLU(inplace=True),\n",
    "            nn.BatchNorm2d(out_dims),\n",
    "        )\n",
    "        self.aspp_block3 = nn.Sequential(\n",
    "            nn.Conv2d(\n",
    "                in_dims, out_dims, 3, stride=1, padding=rate[2], dilation=rate[2]\n",
    "            ),\n",
    "            nn.ReLU(inplace=True),\n",
    "            nn.BatchNorm2d(out_dims),\n",
    "        )\n",
    "\n",
    "        self.output = nn.Conv2d(len(rate) * out_dims, out_dims, 1)\n",
    "        self._init_weights()\n",
    "\n",
    "    def forward(self, x):\n",
    "        x1 = self.aspp_block1(x)\n",
    "        x2 = self.aspp_block2(x)\n",
    "        x3 = self.aspp_block3(x)\n",
    "        out = torch.cat([x1, x2, x3], dim=1)\n",
    "        return self.output(out)\n",
    "\n",
    "    def _init_weights(self):\n",
    "        for m in self.modules():\n",
    "            if isinstance(m, nn.Conv2d):\n",
    "                nn.init.kaiming_normal_(m.weight)\n",
    "            elif isinstance(m, nn.BatchNorm2d):\n",
    "                m.weight.data.fill_(1)\n",
    "                m.bias.data.zero_()\n",
    "\n",
    "class AttentionBlock(nn.Module):\n",
    "    def __init__(self, input_encoder, input_decoder, output_dim):\n",
    "        super(AttentionBlock, self).__init__()\n",
    "\n",
    "        self.conv_encoder = nn.Sequential(\n",
    "            nn.BatchNorm2d(input_encoder),\n",
    "            nn.ReLU(),\n",
    "            nn.Conv2d(input_encoder, output_dim, 3, padding=1),\n",
    "            nn.MaxPool2d(2, 2),\n",
    "        )\n",
    "\n",
    "        self.conv_decoder = nn.Sequential(\n",
    "            nn.BatchNorm2d(input_decoder),\n",
    "            nn.ReLU(),\n",
    "            nn.Conv2d(input_decoder, output_dim, 3, padding=1),\n",
    "        )\n",
    "\n",
    "        self.conv_attn = nn.Sequential(\n",
    "            nn.BatchNorm2d(output_dim),\n",
    "            nn.ReLU(),\n",
    "            nn.Conv2d(output_dim, 1, 1),\n",
    "        )\n",
    "\n",
    "    def forward(self, x1, x2):\n",
    "        out = self.conv_encoder(x1) + self.conv_decoder(x2)\n",
    "        out = self.conv_attn(out)\n",
    "        return out * x2\n",
    "\n",
    "class Upsample(nn.Module):\n",
    "    def __init__(self, input_dim, output_dim, kernel, stride):\n",
    "        super(Upsample, self).__init__()\n",
    "\n",
    "        self.upsample = nn.ConvTranspose2d(\n",
    "            input_dim, output_dim, kernel_size=kernel, stride=stride\n",
    "        )\n",
    "\n",
    "    def forward(self, x):\n",
    "        return self.upsample(x)\n",
    "\n",
    "\n",
    "class Upsample_(nn.Module):\n",
    "    def __init__(self, scale=2):\n",
    "        super(Upsample_, self).__init__()\n",
    "\n",
    "        self.upsample = nn.Upsample(mode=\"bilinear\", scale_factor=scale, align_corners=True)\n",
    "\n",
    "    def forward(self, x):\n",
    "        return self.upsample(x)\n",
    "\n",
    "class Squeeze_Excite_Block(nn.Module):\n",
    "    def __init__(self, channel, reduction=16):\n",
    "        super(Squeeze_Excite_Block, self).__init__()\n",
    "        self.avg_pool = nn.AdaptiveAvgPool2d(1)\n",
    "        self.fc = nn.Sequential(\n",
    "            nn.Linear(channel, channel // reduction, bias=False),\n",
    "            nn.ReLU(inplace=True),\n",
    "            nn.Linear(channel // reduction, channel, bias=False),\n",
    "            nn.Sigmoid(),\n",
    "        )\n",
    "\n",
    "    def forward(self, x):\n",
    "        b, c, _, _ = x.size()\n",
    "        y = self.avg_pool(x).view(b, c)\n",
    "        y = self.fc(y).view(b, c, 1, 1)\n",
    "        return x * y.expand_as(x)\n",
    "\n",
    "\n",
    "class ResUnetPlusPlus(nn.Module):\n",
    "    def __init__(self, channel, filters=[32, 64, 128, 256, 512]):\n",
    "        super(ResUnetPlusPlus, self).__init__()\n",
    "\n",
    "        self.input_layer = nn.Sequential(\n",
    "            nn.Conv2d(channel, filters[0], kernel_size=3, padding=1),\n",
    "            nn.BatchNorm2d(filters[0]),\n",
    "            nn.ReLU(),\n",
    "            nn.Conv2d(filters[0], filters[0], kernel_size=3, padding=1),\n",
    "        )\n",
    "        self.input_skip = nn.Sequential(\n",
    "            nn.Conv2d(channel, filters[0], kernel_size=3, padding=1)\n",
    "        )\n",
    "\n",
    "        self.squeeze_excite1 = Squeeze_Excite_Block(filters[0])\n",
    "\n",
    "        self.residual_conv1 = ResidualConv(filters[0], filters[1], 2, 1)\n",
    "\n",
    "        self.squeeze_excite2 = Squeeze_Excite_Block(filters[1])\n",
    "\n",
    "        self.residual_conv2 = ResidualConv(filters[1], filters[2], 2, 1)\n",
    "\n",
    "        self.squeeze_excite3 = Squeeze_Excite_Block(filters[2])\n",
    "\n",
    "        self.residual_conv3 = ResidualConv(filters[2], filters[3], 2, 1)\n",
    "\n",
    "        self.aspp_bridge = ASPP(filters[3], filters[4])\n",
    "\n",
    "        self.attn1 = AttentionBlock(filters[2], filters[4], filters[4])\n",
    "        self.upsample1 = Upsample_(2)\n",
    "        self.up_residual_conv1 = ResidualConv(filters[4] + filters[2], filters[3], 1, 1)\n",
    "\n",
    "        self.attn2 = AttentionBlock(filters[1], filters[3], filters[3])\n",
    "        self.upsample2 = Upsample_(2)\n",
    "        self.up_residual_conv2 = ResidualConv(filters[3] + filters[1], filters[2], 1, 1)\n",
    "\n",
    "        self.attn3 = AttentionBlock(filters[0], filters[2], filters[2])\n",
    "        self.upsample3 = Upsample_(2)\n",
    "        self.up_residual_conv3 = ResidualConv(filters[2] + filters[0], filters[1], 1, 1)\n",
    "\n",
    "        self.aspp_out = ASPP(filters[1], filters[0])\n",
    "\n",
    "        self.output_layer = nn.Sequential(nn.Conv2d(filters[0], 1, 1), nn.Sigmoid())\n",
    "\n",
    "    def forward(self, x):\n",
    "        x1 = self.input_layer(x) + self.input_skip(x)\n",
    "\n",
    "        x2 = self.squeeze_excite1(x1)\n",
    "        x2 = self.residual_conv1(x2)\n",
    "\n",
    "        x3 = self.squeeze_excite2(x2)\n",
    "        x3 = self.residual_conv2(x3)\n",
    "\n",
    "        x4 = self.squeeze_excite3(x3)\n",
    "        x4 = self.residual_conv3(x4)\n",
    "\n",
    "        x5 = self.aspp_bridge(x4)\n",
    "\n",
    "        x6 = self.attn1(x3, x5)\n",
    "        x6 = self.upsample1(x6)\n",
    "        x6 = torch.cat([x6, x3], dim=1)\n",
    "        x6 = self.up_residual_conv1(x6)\n",
    "\n",
    "        x7 = self.attn2(x2, x6)\n",
    "        x7 = self.upsample2(x7)\n",
    "        x7 = torch.cat([x7, x2], dim=1)\n",
    "        x7 = self.up_residual_conv2(x7)\n",
    "\n",
    "        x8 = self.attn3(x1, x7)\n",
    "        x8 = self.upsample3(x8)\n",
    "        x8 = torch.cat([x8, x1], dim=1)\n",
    "        x8 = self.up_residual_conv3(x8)\n",
    "\n",
    "        x9 = self.aspp_out(x8)\n",
    "        out = self.output_layer(x9)\n",
    "\n",
    "        return out"
   ]
  },
  {
   "cell_type": "code",
   "execution_count": 18,
   "metadata": {
    "id": "FRufE0HU6s1w"
   },
   "outputs": [],
   "source": [
    "class DiceLoss(nn.Module):\n",
    "    def __init__(self, weight=None, size_average=True):\n",
    "        super(DiceLoss, self).__init__()\n",
    "\n",
    "    def forward(self, inputs, targets, smooth=1):\n",
    "        \n",
    "        #comment out if your model contains a sigmoid or equivalent activation layer\n",
    "        #inputs = F.sigmoid(inputs)       \n",
    "        \n",
    "        #flatten label and prediction tensors\n",
    "        inputs = inputs.view(-1)\n",
    "        targets = targets.view(-1)\n",
    "        \n",
    "        intersection = (inputs * targets).sum()                            \n",
    "        dice = (2.*intersection + smooth)/(inputs.sum() + targets.sum() + smooth)  \n",
    "        \n",
    "        return 1 - dice\n",
    "\n",
    "\n",
    "class IoU(nn.Module):\n",
    "    def __init__(self, weight=None, size_average=True):\n",
    "        super(IoU, self).__init__()\n",
    "\n",
    "    def forward(self, inputs, targets, smooth=1):\n",
    "        \n",
    "        #comment out if your model contains a sigmoid or equivalent activation layer\n",
    "        #inputs = F.sigmoid(inputs)       \n",
    "        \n",
    "        #flatten label and prediction tensors\n",
    "        inputs = inputs.view(-1)\n",
    "        targets = targets.view(-1)\n",
    "        \n",
    "        #intersection is equivalent to True Positive count\n",
    "        #union is the mutually inclusive area of all labels & predictions \n",
    "        intersection = (inputs * targets).sum()\n",
    "        total = (inputs + targets).sum()\n",
    "        union = total - intersection \n",
    "        \n",
    "        IoU = (intersection + smooth)/(union + smooth)\n",
    "                \n",
    "        return IoU"
   ]
  },
  {
   "cell_type": "code",
   "execution_count": 19,
   "metadata": {
    "id": "gGxhRokw6yAX"
   },
   "outputs": [],
   "source": [
    "model = ResUnetPlusPlus(3).cuda()\n",
    "optimizer = torch.optim.Adam(model.parameters(),lr = 1e-3)"
   ]
  },
  {
   "cell_type": "code",
   "execution_count": 20,
   "metadata": {
    "id": "eh-qia49d8BK"
   },
   "outputs": [],
   "source": [
    "def save_ckp(state, is_best, checkpoint_path, best_model_path):\n",
    "    \"\"\"\n",
    "    state: checkpoint we want to save\n",
    "    is_best: is this the best checkpoint; min validation loss\n",
    "    checkpoint_path: path to save checkpoint\n",
    "    best_model_path: path to save best model\n",
    "    \"\"\"\n",
    "    f_path = checkpoint_path\n",
    "    # save checkpoint data to the path given, checkpoint_path\n",
    "    torch.save(state, f_path)\n",
    "    # if it is a best model, min validation loss\n",
    "    if is_best:\n",
    "        best_fpath = best_model_path\n",
    "        # copy that checkpoint file to best path given, best_model_path\n",
    "        shutil.copyfile(f_path, best_fpath)\n",
    "\n",
    "def load_ckp(checkpoint_fpath, model, optimizer):\n",
    "    \"\"\"\n",
    "    checkpoint_path: path to save checkpoint\n",
    "    model: model that we want to load checkpoint parameters into       \n",
    "    optimizer: optimizer we defined in previous training\n",
    "    \"\"\"\n",
    "    # load check point\n",
    "    checkpoint = torch.load(checkpoint_fpath)\n",
    "    # initialize state_dict from checkpoint to model\n",
    "    model.load_state_dict(checkpoint['state_dict'])\n",
    "    # initialize optimizer from checkpoint to optimizer\n",
    "    optimizer.load_state_dict(checkpoint['optimizer'])\n",
    "    # initialize valid_loss_min from checkpoint to valid_loss_min\n",
    "    valid_loss_min = checkpoint['valid_loss_min']\n",
    "    # return model, optimizer, epoch value, min validation loss \n",
    "    return model, optimizer, checkpoint['epoch'], valid_loss_min.item()"
   ]
  },
  {
   "cell_type": "code",
   "execution_count": null,
   "metadata": {
    "colab": {
     "base_uri": "https://localhost:8080/"
    },
    "id": "5DcGq44864rY",
    "outputId": "8dfeae57-aa52-4bc1-915c-932cccfa65a4"
   },
   "outputs": [
    {
     "name": "stderr",
     "output_type": "stream",
     "text": [
      "Epoch: 1, loss: 0.5098984837532043, IoU: 0.32459524273872375: 100%|██████████| 200/200 [22:29<00:00,  6.75s/it]\n"
     ]
    },
    {
     "name": "stdout",
     "output_type": "stream",
     "text": [
      "\n",
      "###############Train Loss: 0.47600625902414323, Train IOU: 0.3657867349311709###############\n",
      "###############Valid Loss: 0.4677728022847857, Valid IOU: 0.3691575336669173###############\n",
      "Validation loss decreased (inf --> 0.467773).  Saving model ...\n"
     ]
    },
    {
     "name": "stderr",
     "output_type": "stream",
     "text": [
      "Epoch: 2, loss: 0.2494862675666809, IoU: 0.6006601452827454: 100%|██████████| 200/200 [04:34<00:00,  1.37s/it]\n"
     ]
    },
    {
     "name": "stdout",
     "output_type": "stream",
     "text": [
      "\n",
      "###############Train Loss: 0.37367805987596514, Train IOU: 0.461668226569891###############\n",
      "###############Valid Loss: 0.37447656733649115, Valid IOU: 0.46161571528230394###############\n",
      "Validation loss decreased (0.467773 --> 0.374477).  Saving model ...\n"
     ]
    },
    {
     "name": "stderr",
     "output_type": "stream",
     "text": [
      "Epoch: 3, loss: 0.48754775524139404, IoU: 0.34450092911720276: 100%|██████████| 200/200 [04:42<00:00,  1.41s/it]\n"
     ]
    },
    {
     "name": "stdout",
     "output_type": "stream",
     "text": [
      "\n",
      "###############Train Loss: 0.36546368420124054, Train IOU: 0.470922240242362###############\n",
      "###############Valid Loss: 0.3560269389833723, Valid IOU: 0.48398149561669146###############\n",
      "Validation loss decreased (0.374477 --> 0.356027).  Saving model ...\n"
     ]
    },
    {
     "name": "stderr",
     "output_type": "stream",
     "text": [
      "Epoch: 4, loss: 0.3458922505378723, IoU: 0.4860062897205353: 100%|██████████| 200/200 [04:41<00:00,  1.41s/it]\n"
     ]
    },
    {
     "name": "stdout",
     "output_type": "stream",
     "text": [
      "\n",
      "###############Train Loss: 0.3272526243329048, Train IOU: 0.5115176678448915###############\n",
      "###############Valid Loss: 0.34116517901420595, Valid IOU: 0.4998580373823643###############\n",
      "Validation loss decreased (0.356027 --> 0.341165).  Saving model ...\n"
     ]
    },
    {
     "name": "stderr",
     "output_type": "stream",
     "text": [
      "Epoch: 5, loss: 0.341172456741333, IoU: 0.4912385046482086: 100%|██████████| 200/200 [04:41<00:00,  1.41s/it]\n"
     ]
    },
    {
     "name": "stdout",
     "output_type": "stream",
     "text": [
      "\n",
      "###############Train Loss: 0.31203711062669753, Train IOU: 0.5294498543441296###############\n",
      "###############Valid Loss: 0.31766403317451475, Valid IOU: 0.5255651061023985###############\n",
      "Validation loss decreased (0.341165 --> 0.317664).  Saving model ...\n"
     ]
    },
    {
     "name": "stderr",
     "output_type": "stream",
     "text": [
      "Epoch: 6, loss: 0.3895843029022217, IoU: 0.4392834007740021: 100%|██████████| 200/200 [04:41<00:00,  1.41s/it]\n"
     ]
    },
    {
     "name": "stdout",
     "output_type": "stream",
     "text": [
      "\n",
      "###############Train Loss: 0.3010655027627945, Train IOU: 0.5417249637842179###############\n",
      "###############Valid Loss: 0.3328848940985543, Valid IOU: 0.5118441969156265###############\n"
     ]
    },
    {
     "name": "stderr",
     "output_type": "stream",
     "text": [
      "Epoch: 7, loss: 0.28974366188049316, IoU: 0.5506991147994995: 100%|██████████| 200/200 [04:41<00:00,  1.41s/it]\n"
     ]
    },
    {
     "name": "stdout",
     "output_type": "stream",
     "text": [
      "\n",
      "###############Train Loss: 0.2859791156649589, Train IOU: 0.5602520172297955###############\n",
      "###############Valid Loss: 0.2992657337869917, Valid IOU: 0.5481757697250161###############\n",
      "Validation loss decreased (0.317664 --> 0.299266).  Saving model ...\n"
     ]
    },
    {
     "name": "stderr",
     "output_type": "stream",
     "text": [
      "Epoch: 8, loss: 0.2353118658065796, IoU: 0.6190271973609924:  95%|█████████▌| 190/200 [04:27<00:13,  1.40s/it]"
     ]
    },
    {
     "name": "stdout",
     "output_type": "stream",
     "text": [
      "\n",
      "###############Train Loss: 0.27468985706567767, Train IOU: 0.5741280254721641###############\n",
      "###############Valid Loss: 0.27559025713375634, Valid IOU: 0.5756324318902833###############\n",
      "Validation loss decreased (0.299266 --> 0.275590).  Saving model ...\n"
     ]
    },
    {
     "name": "stderr",
     "output_type": "stream",
     "text": [
      "Epoch: 9, loss: 0.1691685914993286, IoU: 0.7106187343597412: 100%|██████████| 200/200 [04:40<00:00,  1.40s/it]\n"
     ]
    },
    {
     "name": "stdout",
     "output_type": "stream",
     "text": [
      "\n",
      "###############Train Loss: 0.2668112432956696, Train IOU: 0.5843841271847486###############\n",
      "###############Valid Loss: 0.27180385504450116, Valid IOU: 0.579991272517613###############\n",
      "Validation loss decreased (0.275590 --> 0.271804).  Saving model ...\n"
     ]
    },
    {
     "name": "stderr",
     "output_type": "stream",
     "text": [
      "Epoch: 10, loss: 0.2490929365158081, IoU: 0.6011651754379272: 100%|██████████| 200/200 [04:40<00:00,  1.40s/it]\n"
     ]
    },
    {
     "name": "stdout",
     "output_type": "stream",
     "text": [
      "\n",
      "###############Train Loss: 0.26144499838352203, Train IOU: 0.59145393230021###############\n",
      "###############Valid Loss: 0.2674266244683947, Valid IOU: 0.5832552948168346###############\n",
      "Validation loss decreased (0.271804 --> 0.267427).  Saving model ...\n"
     ]
    },
    {
     "name": "stderr",
     "output_type": "stream",
     "text": [
      "Epoch: 11, loss: 0.20597612857818604, IoU: 0.6584094762802124: 100%|██████████| 200/200 [04:40<00:00,  1.40s/it]\n"
     ]
    },
    {
     "name": "stdout",
     "output_type": "stream",
     "text": [
      "\n",
      "###############Train Loss: 0.2552651354670525, Train IOU: 0.5984835030883551###############\n",
      "###############Valid Loss: 0.2601749897003174, Valid IOU: 0.5939740437482085###############\n",
      "Validation loss decreased (0.267427 --> 0.260175).  Saving model ...\n"
     ]
    },
    {
     "name": "stderr",
     "output_type": "stream",
     "text": [
      "Epoch: 12, loss: 0.2466302514076233, IoU: 0.6043288707733154: 100%|██████████| 200/200 [04:40<00:00,  1.40s/it]\n"
     ]
    },
    {
     "name": "stdout",
     "output_type": "stream",
     "text": [
      "\n",
      "###############Train Loss: 0.24803668409585952, Train IOU: 0.6080349941551685###############\n",
      "###############Valid Loss: 0.25473327721868244, Valid IOU: 0.6001019518290247###############\n",
      "Validation loss decreased (0.260175 --> 0.254733).  Saving model ...\n"
     ]
    },
    {
     "name": "stderr",
     "output_type": "stream",
     "text": [
      "Epoch: 13, loss: 0.332244336605072, IoU: 0.5012310147285461: 100%|██████████| 200/200 [04:41<00:00,  1.41s/it]\n"
     ]
    },
    {
     "name": "stdout",
     "output_type": "stream",
     "text": [
      "\n",
      "###############Train Loss: 0.24620676815509795, Train IOU: 0.6098085170984269###############\n",
      "###############Valid Loss: 0.2582979142665863, Valid IOU: 0.5972345211676189###############\n"
     ]
    },
    {
     "name": "stderr",
     "output_type": "stream",
     "text": [
      "Epoch: 14, loss: 0.3234547972679138, IoU: 0.5111995339393616: 100%|██████████| 200/200 [04:41<00:00,  1.41s/it]\n"
     ]
    },
    {
     "name": "stdout",
     "output_type": "stream",
     "text": [
      "\n",
      "###############Train Loss: 0.2464577227830887, Train IOU: 0.6097668310999871###############\n",
      "###############Valid Loss: 0.24923392874853953, Valid IOU: 0.6089637805308614###############\n",
      "Validation loss decreased (0.254733 --> 0.249234).  Saving model ...\n"
     ]
    },
    {
     "name": "stderr",
     "output_type": "stream",
     "text": [
      "Epoch: 15, loss: 0.2523221969604492, IoU: 0.5970355868339539: 100%|██████████| 200/200 [04:41<00:00,  1.41s/it]\n"
     ]
    },
    {
     "name": "stdout",
     "output_type": "stream",
     "text": [
      "\n",
      "###############Train Loss: 0.22909568816423417, Train IOU: 0.6316956305503845###############\n",
      "###############Valid Loss: 0.24153824193137033, Valid IOU: 0.6173049475465502###############\n",
      "Validation loss decreased (0.249234 --> 0.241538).  Saving model ...\n"
     ]
    },
    {
     "name": "stderr",
     "output_type": "stream",
     "text": [
      "Epoch: 16, loss: 0.22980183362960815, IoU: 0.6262823939323425: 100%|██████████| 200/200 [04:40<00:00,  1.40s/it]\n"
     ]
    },
    {
     "name": "stdout",
     "output_type": "stream",
     "text": [
      "\n",
      "###############Train Loss: 0.22710750699043275, Train IOU: 0.6341734260320664###############\n",
      "###############Valid Loss: 0.2485365263053349, Valid IOU: 0.6085233034832137###############\n"
     ]
    },
    {
     "name": "stderr",
     "output_type": "stream",
     "text": [
      "Epoch: 17, loss: 0.27226722240448, IoU: 0.5719995498657227: 100%|██████████| 200/200 [04:41<00:00,  1.41s/it]\n"
     ]
    },
    {
     "name": "stdout",
     "output_type": "stream",
     "text": [
      "\n",
      "###############Train Loss: 0.21694992303848268, Train IOU: 0.647002355158329###############\n",
      "###############Valid Loss: 0.23522463696343557, Valid IOU: 0.6257530272006988###############\n",
      "Validation loss decreased (0.241538 --> 0.235225).  Saving model ...\n"
     ]
    },
    {
     "name": "stderr",
     "output_type": "stream",
     "text": [
      "Epoch: 18, loss: 0.21641027927398682, IoU: 0.6441846489906311: 100%|██████████| 200/200 [04:41<00:00,  1.41s/it]\n"
     ]
    },
    {
     "name": "stdout",
     "output_type": "stream",
     "text": [
      "\n",
      "###############Train Loss: 0.21706672608852387, Train IOU: 0.6473665322363377###############\n",
      "###############Valid Loss: 0.231132504769734, Valid IOU: 0.6319893489990915###############\n",
      "Validation loss decreased (0.235225 --> 0.231133).  Saving model ...\n"
     ]
    },
    {
     "name": "stderr",
     "output_type": "stream",
     "text": [
      "Epoch: 19, loss: 0.23532706499099731, IoU: 0.6190090775489807: 100%|██████████| 200/200 [04:40<00:00,  1.40s/it]\n"
     ]
    },
    {
     "name": "stdout",
     "output_type": "stream",
     "text": [
      "\n",
      "###############Train Loss: 0.22367581456899643, Train IOU: 0.6399210242927075###############\n",
      "###############Valid Loss: 0.254950088262558, Valid IOU: 0.602908687719277###############\n"
     ]
    },
    {
     "name": "stderr",
     "output_type": "stream",
     "text": [
      "Epoch: 20, loss: 0.23065531253814697, IoU: 0.6251539587974548: 100%|██████████| 200/200 [04:42<00:00,  1.41s/it]\n"
     ]
    },
    {
     "name": "stdout",
     "output_type": "stream",
     "text": [
      "\n",
      "###############Train Loss: 0.2185529175400734, Train IOU: 0.6464019066095352###############\n",
      "###############Valid Loss: 0.23312913179397582, Valid IOU: 0.6298477019582476###############\n"
     ]
    },
    {
     "name": "stderr",
     "output_type": "stream",
     "text": [
      "Epoch: 21, loss: 0.16678887605667114, IoU: 0.7141075730323792: 100%|██████████| 200/200 [04:42<00:00,  1.41s/it]\n"
     ]
    },
    {
     "name": "stdout",
     "output_type": "stream",
     "text": [
      "\n",
      "###############Train Loss: 0.2153622567653656, Train IOU: 0.6497169654071331###############\n",
      "###############Valid Loss: 0.23008126020431519, Valid IOU: 0.6333419499652726###############\n",
      "Validation loss decreased (0.231133 --> 0.230081).  Saving model ...\n"
     ]
    },
    {
     "name": "stderr",
     "output_type": "stream",
     "text": [
      "Epoch: 22, loss: 0.38062727451324463, IoU: 0.4486216604709625: 100%|██████████| 200/200 [04:41<00:00,  1.41s/it]\n"
     ]
    },
    {
     "name": "stdout",
     "output_type": "stream",
     "text": [
      "\n",
      "###############Train Loss: 0.21418910086154938, Train IOU: 0.6512439247965812###############\n",
      "###############Valid Loss: 0.23344807284218924, Valid IOU: 0.6278676463024957###############\n"
     ]
    },
    {
     "name": "stderr",
     "output_type": "stream",
     "text": [
      "Epoch: 23, loss: 0.17295008897781372, IoU: 0.705103874206543: 100%|██████████| 200/200 [04:40<00:00,  1.40s/it]\n"
     ]
    },
    {
     "name": "stdout",
     "output_type": "stream",
     "text": [
      "\n",
      "###############Train Loss: 0.207995029091835, Train IOU: 0.6599874728918076###############\n",
      "###############Valid Loss: 0.22449700236320497, Valid IOU: 0.6404698371887207###############\n",
      "Validation loss decreased (0.230081 --> 0.224497).  Saving model ...\n"
     ]
    },
    {
     "name": "stderr",
     "output_type": "stream",
     "text": [
      "Epoch: 24, loss: 0.1497235894203186, IoU: 0.7395500540733337: 100%|██████████| 200/200 [04:42<00:00,  1.41s/it]\n"
     ]
    },
    {
     "name": "stdout",
     "output_type": "stream",
     "text": [
      "\n",
      "###############Train Loss: 0.20415472030639648, Train IOU: 0.664952686727047###############\n",
      "###############Valid Loss: 0.22000578386443, Valid IOU: 0.647106820344925###############\n",
      "Validation loss decreased (0.224497 --> 0.220006).  Saving model ...\n"
     ]
    },
    {
     "name": "stderr",
     "output_type": "stream",
     "text": [
      "Epoch: 25, loss: 0.18798589706420898, IoU: 0.6835246682167053: 100%|██████████| 200/200 [04:43<00:00,  1.42s/it]\n"
     ]
    },
    {
     "name": "stdout",
     "output_type": "stream",
     "text": [
      "\n",
      "###############Train Loss: 0.20641854554414749, Train IOU: 0.6614455798268318###############\n",
      "###############Valid Loss: 0.2253468871116638, Valid IOU: 0.6407814247267587###############\n"
     ]
    },
    {
     "name": "stderr",
     "output_type": "stream",
     "text": [
      "Epoch: 26, loss: 0.29119181632995605, IoU: 0.5489588379859924: 100%|██████████| 200/200 [04:43<00:00,  1.42s/it]\n"
     ]
    },
    {
     "name": "stdout",
     "output_type": "stream",
     "text": [
      "\n",
      "###############Train Loss: 0.22546509742736817, Train IOU: 0.6388145783543586###############\n",
      "###############Valid Loss: 0.2655791802065713, Valid IOU: 0.5894535500024046###############\n"
     ]
    },
    {
     "name": "stderr",
     "output_type": "stream",
     "text": [
      "Epoch: 27, loss: 0.22497767210006714, IoU: 0.6326861381530762: 100%|██████████| 200/200 [04:44<00:00,  1.42s/it]\n"
     ]
    },
    {
     "name": "stdout",
     "output_type": "stream",
     "text": [
      "\n",
      "###############Train Loss: 0.218624809384346, Train IOU: 0.6458301338553428###############\n",
      "###############Valid Loss: 0.24153741087232317, Valid IOU: 0.6170943338956152###############\n"
     ]
    },
    {
     "name": "stderr",
     "output_type": "stream",
     "text": [
      "Epoch: 28, loss: 0.45976608991622925, IoU: 0.3700876533985138: 100%|██████████| 200/200 [04:44<00:00,  1.42s/it]\n"
     ]
    },
    {
     "name": "stdout",
     "output_type": "stream",
     "text": [
      "\n",
      "###############Train Loss: 0.20682274520397187, Train IOU: 0.6617366650700569###############\n",
      "###############Valid Loss: 0.21714479752949306, Valid IOU: 0.6505476266145707###############\n",
      "Validation loss decreased (0.220006 --> 0.217145).  Saving model ...\n"
     ]
    },
    {
     "name": "stderr",
     "output_type": "stream",
     "text": [
      "Epoch: 29, loss: 0.1701837182044983, IoU: 0.709135890007019: 100%|██████████| 200/200 [04:44<00:00,  1.42s/it]\n"
     ]
    },
    {
     "name": "stdout",
     "output_type": "stream",
     "text": [
      "\n",
      "###############Train Loss: 0.1998983806371689, Train IOU: 0.6703451931476593###############\n",
      "###############Valid Loss: 0.21958117144448416, Valid IOU: 0.6469681746193341###############\n"
     ]
    },
    {
     "name": "stderr",
     "output_type": "stream",
     "text": [
      "Epoch: 30, loss: 0.14990544319152832, IoU: 0.7392752170562744: 100%|██████████| 200/200 [04:43<00:00,  1.42s/it]\n"
     ]
    },
    {
     "name": "stdout",
     "output_type": "stream",
     "text": [
      "\n",
      "###############Train Loss: 0.20125351071357728, Train IOU: 0.6690600538253784###############\n",
      "###############Valid Loss: 0.21450145500046866, Valid IOU: 0.6535940274596215###############\n",
      "Validation loss decreased (0.217145 --> 0.214501).  Saving model ...\n"
     ]
    },
    {
     "name": "stderr",
     "output_type": "stream",
     "text": [
      "Epoch: 31, loss: 0.2668624520301819, IoU: 0.5787066221237183: 100%|██████████| 200/200 [04:43<00:00,  1.42s/it]\n"
     ]
    },
    {
     "name": "stdout",
     "output_type": "stream",
     "text": [
      "\n",
      "###############Train Loss: 0.20224061936140061, Train IOU: 0.6684809923171997###############\n",
      "###############Valid Loss: 0.21629995959145681, Valid IOU: 0.6503765093428748###############\n"
     ]
    },
    {
     "name": "stderr",
     "output_type": "stream",
     "text": [
      "Epoch: 32, loss: 0.19913744926452637, IoU: 0.6678677201271057: 100%|██████████| 200/200 [04:43<00:00,  1.42s/it]\n"
     ]
    },
    {
     "name": "stdout",
     "output_type": "stream",
     "text": [
      "\n",
      "###############Train Loss: 0.18936826556921005, Train IOU: 0.6851931577920913###############\n",
      "###############Valid Loss: 0.2111389866897038, Valid IOU: 0.6582256340554782###############\n",
      "Validation loss decreased (0.214501 --> 0.211139).  Saving model ...\n"
     ]
    },
    {
     "name": "stderr",
     "output_type": "stream",
     "text": [
      "Epoch: 33, loss: 0.1785733699798584, IoU: 0.6969696283340454: 100%|██████████| 200/200 [04:43<00:00,  1.42s/it]\n"
     ]
    },
    {
     "name": "stdout",
     "output_type": "stream",
     "text": [
      "\n",
      "###############Train Loss: 0.18967560321092605, Train IOU: 0.6839218088984489###############\n",
      "###############Valid Loss: 0.20480133465358188, Valid IOU: 0.6662091546825###############\n",
      "Validation loss decreased (0.211139 --> 0.204801).  Saving model ...\n"
     ]
    },
    {
     "name": "stderr",
     "output_type": "stream",
     "text": [
      "Epoch: 34, loss: 0.2592794895172119, IoU: 0.5882158279418945: 100%|██████████| 200/200 [04:42<00:00,  1.41s/it]\n"
     ]
    },
    {
     "name": "stdout",
     "output_type": "stream",
     "text": [
      "\n",
      "###############Train Loss: 0.1878390821814537, Train IOU: 0.6874455520510674###############\n",
      "###############Valid Loss: 0.20803415434701103, Valid IOU: 0.662817343217986###############\n"
     ]
    },
    {
     "name": "stderr",
     "output_type": "stream",
     "text": [
      "Epoch: 35, loss: 0.20603972673416138, IoU: 0.6583237051963806: 100%|██████████| 200/200 [04:41<00:00,  1.41s/it]\n"
     ]
    },
    {
     "name": "stdout",
     "output_type": "stream",
     "text": [
      "\n",
      "###############Train Loss: 0.18780216306447983, Train IOU: 0.6867510268092155###############\n",
      "###############Valid Loss: 0.2206157352243151, Valid IOU: 0.6460852444171905###############\n"
     ]
    },
    {
     "name": "stderr",
     "output_type": "stream",
     "text": [
      "Epoch: 36, loss: 0.25056856870651245, IoU: 0.5992763042449951: 100%|██████████| 200/200 [04:43<00:00,  1.42s/it]\n"
     ]
    },
    {
     "name": "stdout",
     "output_type": "stream",
     "text": [
      "\n",
      "###############Train Loss: 0.19011462539434432, Train IOU: 0.6841485361754894###############\n",
      "###############Valid Loss: 0.21789168970925468, Valid IOU: 0.6499950851712908###############\n"
     ]
    },
    {
     "name": "stderr",
     "output_type": "stream",
     "text": [
      "Epoch: 37, loss: 0.13746899366378784, IoU: 0.7582910060882568: 100%|██████████| 200/200 [04:43<00:00,  1.42s/it]\n"
     ]
    },
    {
     "name": "stdout",
     "output_type": "stream",
     "text": [
      "\n",
      "###############Train Loss: 0.1846297624707222, Train IOU: 0.6914688855409622###############\n",
      "###############Valid Loss: 0.20074155330657958, Valid IOU: 0.672572471840041###############\n",
      "Validation loss decreased (0.204801 --> 0.200742).  Saving model ...\n"
     ]
    },
    {
     "name": "stderr",
     "output_type": "stream",
     "text": [
      "Epoch: 38, loss: 0.14269816875457764, IoU: 0.7502473592758179: 100%|██████████| 200/200 [04:44<00:00,  1.42s/it]\n"
     ]
    },
    {
     "name": "stdout",
     "output_type": "stream",
     "text": [
      "\n",
      "###############Train Loss: 0.19736689299345017, Train IOU: 0.675643484890461###############\n",
      "###############Valid Loss: 0.20124288882528032, Valid IOU: 0.6710039696523121###############\n"
     ]
    },
    {
     "name": "stderr",
     "output_type": "stream",
     "text": [
      "Epoch: 39, loss: 0.2909305691719055, IoU: 0.5492804050445557: 100%|██████████| 200/200 [04:41<00:00,  1.41s/it]\n"
     ]
    },
    {
     "name": "stdout",
     "output_type": "stream",
     "text": [
      "\n",
      "###############Train Loss: 0.18008273243904113, Train IOU: 0.6979592411220074###############\n",
      "###############Valid Loss: 0.19749744279044015, Valid IOU: 0.6764600787843976###############\n",
      "Validation loss decreased (0.200742 --> 0.197497).  Saving model ...\n"
     ]
    },
    {
     "name": "stderr",
     "output_type": "stream",
     "text": [
      "Epoch: 40, loss: 0.2694411277770996, IoU: 0.5755023956298828: 100%|██████████| 200/200 [04:41<00:00,  1.41s/it]\n"
     ]
    },
    {
     "name": "stdout",
     "output_type": "stream",
     "text": [
      "\n",
      "###############Train Loss: 0.18671247899532317, Train IOU: 0.6898321256786585###############\n",
      "###############Valid Loss: 0.20567093406404768, Valid IOU: 0.6669493382530552###############\n"
     ]
    },
    {
     "name": "stderr",
     "output_type": "stream",
     "text": [
      "Epoch: 41, loss: 0.2084612250328064, IoU: 0.6550005078315735: 100%|██████████| 200/200 [04:41<00:00,  1.41s/it]\n"
     ]
    },
    {
     "name": "stdout",
     "output_type": "stream",
     "text": [
      "\n",
      "###############Train Loss: 0.18013025522232057, Train IOU: 0.6981739005446435###############\n",
      "###############Valid Loss: 0.2043390623160771, Valid IOU: 0.6666475464190755###############\n"
     ]
    },
    {
     "name": "stderr",
     "output_type": "stream",
     "text": [
      "Epoch: 42, loss: 0.19017040729522705, IoU: 0.680433452129364: 100%|██████████| 200/200 [04:40<00:00,  1.40s/it]\n"
     ]
    },
    {
     "name": "stdout",
     "output_type": "stream",
     "text": [
      "\n",
      "###############Train Loss: 0.18183779299259187, Train IOU: 0.6961771847307682###############\n",
      "###############Valid Loss: 0.20888343964304243, Valid IOU: 0.6626158819666931###############\n"
     ]
    },
    {
     "name": "stderr",
     "output_type": "stream",
     "text": [
      "Epoch: 43, loss: 0.17789554595947266, IoU: 0.6979458928108215: 100%|██████████| 200/200 [04:41<00:00,  1.41s/it]\n"
     ]
    },
    {
     "name": "stdout",
     "output_type": "stream",
     "text": [
      "\n",
      "###############Train Loss: 0.18031393408775329, Train IOU: 0.6976627303659916###############\n",
      "###############Valid Loss: 0.20169486488614763, Valid IOU: 0.6713036922471863###############\n"
     ]
    },
    {
     "name": "stderr",
     "output_type": "stream",
     "text": [
      "Epoch: 44, loss: 0.19525295495986938, IoU: 0.6732878684997559: 100%|██████████| 200/200 [04:41<00:00,  1.41s/it]\n"
     ]
    },
    {
     "name": "stdout",
     "output_type": "stream",
     "text": [
      "\n",
      "###############Train Loss: 0.1796357065439224, Train IOU: 0.6986388052999973###############\n",
      "###############Valid Loss: 0.2089667090347835, Valid IOU: 0.6626686115350042###############\n"
     ]
    },
    {
     "name": "stderr",
     "output_type": "stream",
     "text": [
      "Epoch: 45, loss: 0.21580666303634644, IoU: 0.6450018286705017: 100%|██████████| 200/200 [04:41<00:00,  1.41s/it]\n"
     ]
    },
    {
     "name": "stdout",
     "output_type": "stream",
     "text": [
      "\n",
      "###############Train Loss: 0.17817604094743728, Train IOU: 0.7005573785305024###############\n",
      "###############Valid Loss: 0.22453509143420627, Valid IOU: 0.6425479938941342###############\n"
     ]
    },
    {
     "name": "stderr",
     "output_type": "stream",
     "text": [
      "Epoch: 46, loss: 0.13491588830947876, IoU: 0.7622467875480652: 100%|██████████| 200/200 [04:40<00:00,  1.40s/it]\n"
     ]
    },
    {
     "name": "stdout",
     "output_type": "stream",
     "text": [
      "\n",
      "###############Train Loss: 0.18291934251785277, Train IOU: 0.6943284530937671###############\n",
      "###############Valid Loss: 0.19515687397548132, Valid IOU: 0.6796459874936512###############\n",
      "Validation loss decreased (0.197497 --> 0.195157).  Saving model ...\n"
     ]
    },
    {
     "name": "stderr",
     "output_type": "stream",
     "text": [
      "Epoch: 47, loss: 0.12167614698410034, IoU: 0.7830472588539124: 100%|██████████| 200/200 [04:40<00:00,  1.40s/it]\n"
     ]
    },
    {
     "name": "stdout",
     "output_type": "stream",
     "text": [
      "\n",
      "###############Train Loss: 0.1737333717942238, Train IOU: 0.7073457911610603###############\n",
      "###############Valid Loss: 0.195705475125994, Valid IOU: 0.6792582482099533###############\n"
     ]
    },
    {
     "name": "stderr",
     "output_type": "stream",
     "text": [
      "Epoch: 48, loss: 0.16684973239898682, IoU: 0.714018702507019: 100%|██████████| 200/200 [04:41<00:00,  1.41s/it]\n"
     ]
    },
    {
     "name": "stdout",
     "output_type": "stream",
     "text": [
      "\n",
      "###############Train Loss: 0.17208636224269866, Train IOU: 0.70945809841156###############\n",
      "###############Valid Loss: 0.19556159802845546, Valid IOU: 0.6806905080165182###############\n"
     ]
    },
    {
     "name": "stderr",
     "output_type": "stream",
     "text": [
      "Epoch: 49, loss: 0.15833312273025513, IoU: 0.7266215682029724: 100%|██████████| 200/200 [04:41<00:00,  1.41s/it]\n"
     ]
    },
    {
     "name": "stdout",
     "output_type": "stream",
     "text": [
      "\n",
      "###############Train Loss: 0.1776285469532013, Train IOU: 0.7016602821648121###############\n",
      "###############Valid Loss: 0.19933053765978131, Valid IOU: 0.6748351797461509###############\n"
     ]
    },
    {
     "name": "stderr",
     "output_type": "stream",
     "text": [
      "Epoch: 50, loss: 0.11386579275131226, IoU: 0.7955504059791565: 100%|██████████| 200/200 [04:41<00:00,  1.41s/it]\n"
     ]
    },
    {
     "name": "stdout",
     "output_type": "stream",
     "text": [
      "\n",
      "###############Train Loss: 0.17442027479410172, Train IOU: 0.706490485817194###############\n",
      "###############Valid Loss: 0.2001698008605412, Valid IOU: 0.6738190276282174###############\n"
     ]
    },
    {
     "name": "stderr",
     "output_type": "stream",
     "text": [
      "Epoch: 51, loss: 0.1517573595046997, IoU: 0.7364789843559265: 100%|██████████| 200/200 [04:41<00:00,  1.41s/it]\n"
     ]
    },
    {
     "name": "stdout",
     "output_type": "stream",
     "text": [
      "\n",
      "###############Train Loss: 0.17390475273132325, Train IOU: 0.7070885622501373###############\n",
      "###############Valid Loss: 0.2009067407676152, Valid IOU: 0.6733962791306632###############\n"
     ]
    },
    {
     "name": "stderr",
     "output_type": "stream",
     "text": [
      "Epoch: 52, loss: 0.24685800075531006, IoU: 0.6040374040603638: 100%|██████████| 200/200 [04:41<00:00,  1.41s/it]\n"
     ]
    },
    {
     "name": "stdout",
     "output_type": "stream",
     "text": [
      "\n",
      "###############Train Loss: 0.16899114578962326, Train IOU: 0.7132966062426567###############\n",
      "###############Valid Loss: 0.1960953380380358, Valid IOU: 0.6790172195860318###############\n"
     ]
    },
    {
     "name": "stderr",
     "output_type": "stream",
     "text": [
      "Epoch: 53, loss: 0.18022191524505615, IoU: 0.6945981383323669: 100%|██████████| 200/200 [04:41<00:00,  1.41s/it]\n"
     ]
    },
    {
     "name": "stdout",
     "output_type": "stream",
     "text": [
      "\n",
      "###############Train Loss: 0.1713014280796051, Train IOU: 0.7106365603208542###############\n",
      "###############Valid Loss: 0.19451310634613037, Valid IOU: 0.6815914982131549###############\n",
      "Validation loss decreased (0.195157 --> 0.194513).  Saving model ...\n"
     ]
    },
    {
     "name": "stderr",
     "output_type": "stream",
     "text": [
      "Epoch: 54, loss: 0.22414010763168335, IoU: 0.633802592754364: 100%|██████████| 200/200 [04:40<00:00,  1.40s/it]\n"
     ]
    },
    {
     "name": "stdout",
     "output_type": "stream",
     "text": [
      "\n",
      "###############Train Loss: 0.17237501204013825, Train IOU: 0.7095603957772255###############\n",
      "###############Valid Loss: 0.19503024901662555, Valid IOU: 0.6800693954740252###############\n"
     ]
    },
    {
     "name": "stderr",
     "output_type": "stream",
     "text": [
      "Epoch: 55, loss: 0.2053491473197937, IoU: 0.6592734456062317: 100%|██████████| 200/200 [04:42<00:00,  1.41s/it]\n"
     ]
    },
    {
     "name": "stdout",
     "output_type": "stream",
     "text": [
      "\n",
      "###############Train Loss: 0.1678525498509407, Train IOU: 0.7157246260344983###############\n",
      "###############Valid Loss: 0.1929328177656446, Valid IOU: 0.6836276237453733###############\n",
      "Validation loss decreased (0.194513 --> 0.192933).  Saving model ...\n"
     ]
    },
    {
     "name": "stderr",
     "output_type": "stream",
     "text": [
      "Epoch: 56, loss: 0.125887930393219, IoU: 0.7763777375221252: 100%|██████████| 200/200 [04:40<00:00,  1.40s/it]\n"
     ]
    },
    {
     "name": "stdout",
     "output_type": "stream",
     "text": [
      "\n",
      "###############Train Loss: 0.16925082266330718, Train IOU: 0.7137898243963718###############\n",
      "###############Valid Loss: 0.19364064250673566, Valid IOU: 0.6818275743297169###############\n"
     ]
    },
    {
     "name": "stderr",
     "output_type": "stream",
     "text": [
      "Epoch: 57, loss: 0.2065306305885315, IoU: 0.6576492786407471: 100%|██████████| 200/200 [04:36<00:00,  1.38s/it]\n"
     ]
    },
    {
     "name": "stdout",
     "output_type": "stream",
     "text": [
      "\n",
      "###############Train Loss: 0.1687360754609108, Train IOU: 0.7141833969950676###############\n",
      "###############Valid Loss: 0.1930898972920009, Valid IOU: 0.6836836923445974###############\n"
     ]
    },
    {
     "name": "stderr",
     "output_type": "stream",
     "text": [
      "Epoch: 58, loss: 0.13273906707763672, IoU: 0.7656340599060059: 100%|██████████| 200/200 [04:35<00:00,  1.38s/it]\n"
     ]
    },
    {
     "name": "stdout",
     "output_type": "stream",
     "text": [
      "\n",
      "###############Train Loss: 0.16642780244350433, Train IOU: 0.7176035626232624###############\n",
      "###############Valid Loss: 0.1943153943334307, Valid IOU: 0.6813151725700923###############\n"
     ]
    },
    {
     "name": "stderr",
     "output_type": "stream",
     "text": [
      "Epoch: 59, loss: 0.14039689302444458, IoU: 0.7537767887115479: 100%|██████████| 200/200 [04:35<00:00,  1.38s/it]\n"
     ]
    },
    {
     "name": "stdout",
     "output_type": "stream",
     "text": [
      "\n",
      "###############Train Loss: 0.1653601723909378, Train IOU: 0.7198497442901135###############\n",
      "###############Valid Loss: 0.19329162580626352, Valid IOU: 0.682848396045821###############\n"
     ]
    },
    {
     "name": "stderr",
     "output_type": "stream",
     "text": [
      "Epoch: 60, loss: 0.13857948780059814, IoU: 0.756576418876648:  44%|████▎     | 87/200 [02:01<02:35,  1.38s/it] "
     ]
    }
   ],
   "source": [
    "#from engine import evaluate\n",
    "criterion = DiceLoss()\n",
    "accuracy_metric = IoU()\n",
    "num_epochs=100\n",
    "valid_loss_min = np.Inf\n",
    "\n",
    "checkpoint_path = '/content/gdrive/My Drive/unet/data/model_256x_100e/chkpoint_'\n",
    "best_model_path = '/content/gdrive/My Drive/unet/data/model_256x_100e/bestmodel.pt'\n",
    "\n",
    "total_train_loss = []\n",
    "total_train_score = []\n",
    "total_valid_loss = []\n",
    "total_valid_score = []\n",
    "\n",
    "losses_value = 0\n",
    "for epoch in range(num_epochs):\n",
    "  \n",
    "    train_loss = []\n",
    "    train_score = []\n",
    "    valid_loss = []\n",
    "    valid_score = []\n",
    "    #<-----------Training Loop---------------------------->\n",
    "    pbar = tqdm(train_loader, desc = 'description')\n",
    "    for x_train, y_train in pbar:\n",
    "      x_train = torch.autograd.Variable(x_train).cuda()\n",
    "      y_train = torch.autograd.Variable(y_train).cuda()\n",
    "      optimizer.zero_grad()\n",
    "      output = model(x_train)\n",
    "      #Loss\n",
    "      loss = criterion(output, y_train)\n",
    "      losses_value = loss.item()\n",
    "      #Score\n",
    "      score = accuracy_metric(output,y_train)\n",
    "      loss.backward()\n",
    "      optimizer.step()\n",
    "      train_loss.append(losses_value)\n",
    "      train_score.append(score.item())\n",
    "      #train_score.append(score)\n",
    "      pbar.set_description(f\"Epoch: {epoch+1}, loss: {losses_value}, IoU: {score}\")\n",
    "\n",
    "    #<---------------Validation Loop---------------------->\n",
    "    with torch.no_grad():\n",
    "      for image,mask in val_loader:\n",
    "        image = torch.autograd.Variable(image).cuda()\n",
    "        mask = torch.autograd.Variable(mask).cuda()\n",
    "        output = model(image)\n",
    "        ## Compute Loss Value.\n",
    "        loss = criterion(output, mask)\n",
    "        losses_value = loss.item()\n",
    "        ## Compute Accuracy Score\n",
    "        score = accuracy_metric(output,mask)\n",
    "        valid_loss.append(losses_value)\n",
    "        valid_score.append(score.item())\n",
    "\n",
    "    total_train_loss.append(np.mean(train_loss))\n",
    "    total_train_score.append(np.mean(train_score))\n",
    "    total_valid_loss.append(np.mean(valid_loss))\n",
    "    total_valid_score.append(np.mean(valid_score))\n",
    "    print(f\"\\n###############Train Loss: {total_train_loss[-1]}, Train IOU: {total_train_score[-1]}###############\")\n",
    "    print(f\"###############Valid Loss: {total_valid_loss[-1]}, Valid IOU: {total_valid_score[-1]}###############\")\n",
    "\n",
    "    #Save best model Checkpoint\n",
    "    # create checkpoint variable and add important data\n",
    "    checkpoint = {\n",
    "        'epoch': epoch + 1,\n",
    "        'valid_loss_min': total_valid_loss[-1],\n",
    "        'state_dict': model.state_dict(),\n",
    "        'optimizer': optimizer.state_dict(),\n",
    "    }\n",
    "    \n",
    "    # save checkpoint\n",
    "    save_ckp(checkpoint, False, checkpoint_path, best_model_path)\n",
    "    \n",
    "    ## TODO: save the model if validation loss has decreased\n",
    "    if total_valid_loss[-1] <= valid_loss_min:\n",
    "        print('Validation loss decreased ({:.6f} --> {:.6f}).  Saving model ...'.format(valid_loss_min,total_valid_loss[-1]))\n",
    "        # save checkpoint as best model\n",
    "        save_ckp(checkpoint, True, checkpoint_path, best_model_path)\n",
    "        valid_loss_min = total_valid_loss[-1]"
   ]
  },
  {
   "cell_type": "code",
   "execution_count": null,
   "metadata": {
    "id": "O53vvKeBL0bg"
   },
   "outputs": [],
   "source": [
    "import seaborn as sns\n",
    "\n",
    "plt.figure(1)\n",
    "plt.figure(figsize=(15,5))\n",
    "sns.set_style(style=\"darkgrid\")\n",
    "plt.subplot(1, 2, 1)\n",
    "sns.lineplot(x=range(1,101), y=total_train_loss, label=\"Train Loss\")\n",
    "sns.lineplot(x=range(1,101), y=total_valid_loss, label=\"Valid Loss\")\n",
    "plt.title(\"Loss\")\n",
    "plt.xlabel(\"epochs\")\n",
    "plt.ylabel(\"DiceLoss\")\n",
    "\n",
    "plt.subplot(1, 2, 2)\n",
    "sns.lineplot(x=range(1,101), y=total_train_score, label=\"Train Score\")\n",
    "sns.lineplot(x=range(1,101), y=total_valid_score, label=\"Valid Score\")\n",
    "plt.title(\"Score (IoU)\")\n",
    "plt.xlabel(\"epochs\")\n",
    "plt.ylabel(\"IoU\")\n",
    "plt.show()"
   ]
  },
  {
   "cell_type": "code",
   "execution_count": null,
   "metadata": {
    "id": "-UGy2G2BqaP1"
   },
   "outputs": [],
   "source": [
    "#loading the saved model\n",
    "model, optimizer, start_epoch, valid_loss_min = load_ckp(checkpoint_path, model, optimizer)"
   ]
  },
  {
   "cell_type": "code",
   "execution_count": null,
   "metadata": {
    "id": "Jh24FiNI7IKm"
   },
   "outputs": [],
   "source": [
    "def visualize_predict(model, n_images):\n",
    "  #model = model.eval()\n",
    "  figure, ax = plt.subplots(nrows=n_images, ncols=3, figsize=(15, 18))\n",
    "  with torch.no_grad():\n",
    "    for data,mask in val_loader:\n",
    "        data = torch.autograd.Variable(data, volatile=True).cuda()\n",
    "        mask = torch.autograd.Variable(mask, volatile=True).cuda()\n",
    "        o = model(data)\n",
    "        break\n",
    "  for img_no in range(0, n_images):\n",
    "    tm=o[img_no][0].data.cpu().numpy()\n",
    "    img = data[img_no].data.cpu()\n",
    "    msk = mask[img_no].data.cpu()\n",
    "    img = format_image(img)\n",
    "    msk = format_mask(msk)\n",
    "    ax[img_no, 0].imshow(img)\n",
    "    ax[img_no, 1].imshow(msk, interpolation=\"nearest\", cmap=\"gray\")\n",
    "    ax[img_no, 2].imshow(tm, interpolation=\"nearest\", cmap=\"gray\")\n",
    "    ax[img_no, 0].set_title(\"Ground Truth Image\")\n",
    "    ax[img_no, 1].set_title(\"Ground Truth Mask\")\n",
    "    ax[img_no, 2].set_title(\"Predicted Mask\")\n",
    "    ax[img_no, 0].set_axis_off()\n",
    "    ax[img_no, 1].set_axis_off()\n",
    "    ax[img_no, 2].set_axis_off()\n",
    "  plt.tight_layout()\n",
    "  plt.show()"
   ]
  },
  {
   "cell_type": "code",
   "execution_count": null,
   "metadata": {
    "id": "lwCPeZngQ8NF"
   },
   "outputs": [],
   "source": [
    "visualize_predict(model, 6)"
   ]
  },
  {
   "cell_type": "code",
   "execution_count": null,
   "metadata": {
    "id": "spjTH5xidcjF"
   },
   "outputs": [],
   "source": []
  }
 ],
 "metadata": {
  "accelerator": "GPU",
  "colab": {
   "collapsed_sections": [],
   "name": "Unet++ with Resnet encoders.ipynb",
   "provenance": []
  },
  "kernelspec": {
   "display_name": "Python 3",
   "language": "python",
   "name": "python3"
  },
  "language_info": {
   "codemirror_mode": {
    "name": "ipython",
    "version": 3
   },
   "file_extension": ".py",
   "mimetype": "text/x-python",
   "name": "python",
   "nbconvert_exporter": "python",
   "pygments_lexer": "ipython3",
   "version": "3.7.4"
  }
 },
 "nbformat": 4,
 "nbformat_minor": 1
}
