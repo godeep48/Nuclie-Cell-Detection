{
  "nbformat": 4,
  "nbformat_minor": 0,
  "metadata": {
    "colab": {
      "name": "Unet Model.ipynb",
      "provenance": []
    },
    "kernelspec": {
      "name": "python3",
      "display_name": "Python 3"
    },
    "language_info": {
      "name": "python"
    },
    "accelerator": "GPU"
  },
  "cells": [
    {
      "cell_type": "markdown",
      "source": [
        "# Mount drive to Colab"
      ],
      "metadata": {
        "id": "0BxKV1rp4iw2"
      }
    },
    {
      "cell_type": "code",
      "execution_count": 1,
      "metadata": {
        "colab": {
          "base_uri": "https://localhost:8080/"
        },
        "id": "vIm66ESo4Vk0",
        "outputId": "261cfb37-00e9-447c-f698-3716d89b3877"
      },
      "outputs": [
        {
          "output_type": "stream",
          "name": "stdout",
          "text": [
            "Mounted at /content/drive\n"
          ]
        }
      ],
      "source": [
        "from google.colab import drive\n",
        "drive.mount('/content/drive')"
      ]
    },
    {
      "cell_type": "code",
      "source": [
        "!cp /content/drive/MyDrive/Nuclie\\ Cell\\ Detection/stage1_train.zip /content/"
      ],
      "metadata": {
        "id": "gGl8YLEGI3o5"
      },
      "execution_count": 2,
      "outputs": []
    },
    {
      "cell_type": "code",
      "source": [
        "ls"
      ],
      "metadata": {
        "colab": {
          "base_uri": "https://localhost:8080/"
        },
        "id": "Jl8A-KCMJJ7L",
        "outputId": "18d790b0-8abc-4b5a-d331-cf64e1548630"
      },
      "execution_count": 3,
      "outputs": [
        {
          "output_type": "stream",
          "name": "stdout",
          "text": [
            "\u001b[0m\u001b[01;34mdrive\u001b[0m/  \u001b[01;34msample_data\u001b[0m/  stage1_train.zip\n"
          ]
        }
      ]
    },
    {
      "cell_type": "markdown",
      "source": [
        "# Unzipping data files"
      ],
      "metadata": {
        "id": "DTReR-XtJUGx"
      }
    },
    {
      "cell_type": "code",
      "source": [
        "from zipfile import ZipFile\n",
        "file_name = \"stage1_train.zip\"\n",
        "with ZipFile(file_name, 'r') as zip: \n",
        "    print('Extracting the files') \n",
        "    zip.extractall(\"stage1_train\") \n",
        "    print('Done!')"
      ],
      "metadata": {
        "colab": {
          "base_uri": "https://localhost:8080/"
        },
        "id": "n-_RtVEDJTuI",
        "outputId": "31927a36-5de9-4e17-e8f8-b5f4d515ac9f"
      },
      "execution_count": 4,
      "outputs": [
        {
          "output_type": "stream",
          "name": "stdout",
          "text": [
            "Extracting the files\n",
            "Done!\n"
          ]
        }
      ]
    },
    {
      "cell_type": "code",
      "source": [
        "ls"
      ],
      "metadata": {
        "colab": {
          "base_uri": "https://localhost:8080/"
        },
        "id": "GXlWRuuQJqaM",
        "outputId": "215fffb1-da10-441e-af2e-d7e0a5834114"
      },
      "execution_count": 5,
      "outputs": [
        {
          "output_type": "stream",
          "name": "stdout",
          "text": [
            "\u001b[0m\u001b[01;34mdrive\u001b[0m/  \u001b[01;34msample_data\u001b[0m/  \u001b[01;34mstage1_train\u001b[0m/  stage1_train.zip\n"
          ]
        }
      ]
    },
    {
      "cell_type": "markdown",
      "source": [
        "# Installing and Importing necessary libraries"
      ],
      "metadata": {
        "id": "En9lRkST5pNK"
      }
    },
    {
      "cell_type": "code",
      "source": [
        "!pip install -q albumentations==0.4.6"
      ],
      "metadata": {
        "colab": {
          "base_uri": "https://localhost:8080/"
        },
        "id": "qKanNBfv498f",
        "outputId": "a4214109-9488-4510-fc41-7b56baae4eb4"
      },
      "execution_count": 6,
      "outputs": [
        {
          "output_type": "stream",
          "name": "stdout",
          "text": [
            "\u001b[K     |████████████████████████████████| 117 kB 5.1 MB/s \n",
            "\u001b[K     |████████████████████████████████| 948 kB 40.0 MB/s \n",
            "\u001b[?25h  Building wheel for albumentations (setup.py) ... \u001b[?25l\u001b[?25hdone\n"
          ]
        }
      ]
    },
    {
      "cell_type": "code",
      "source": [
        "import os\n",
        "import glob\n",
        "import time\n",
        "import copy\n",
        "from collections import defaultdict\n",
        "import torch\n",
        "import shutil\n",
        "import pandas as pd\n",
        "from skimage import io, transform\n",
        "import numpy as np\n",
        "from PIL import Image\n",
        "import matplotlib.pyplot as plt\n",
        "from torch.utils.data import Dataset, DataLoader, random_split\n",
        "from torchvision import transforms, utils\n",
        "from torch import nn\n",
        "import albumentations as A\n",
        "from albumentations.pytorch import ToTensor\n",
        "#import tqdm as tqdm\n",
        "from tqdm import tqdm as tqdm\n",
        "\n",
        "from albumentations import (HorizontalFlip, ShiftScaleRotate, Normalize, Resize, Compose, GaussNoise)\n",
        "import cv2\n",
        "\n",
        "from torch.autograd import Variable\n",
        "from torch.nn import Linear, ReLU, CrossEntropyLoss, Sequential, Conv2d, MaxPool2d, Module, Softmax, BatchNorm2d, Dropout\n",
        "from torch.optim import Adam, SGD\n",
        "import torch.nn.functional as F\n",
        "from PIL import Image\n",
        "from torch import nn\n",
        "import zipfile\n",
        "\n",
        "import random\n",
        "\n",
        "device = torch.device('cuda:0' if torch.cuda.is_available() else 'cpu')"
      ],
      "metadata": {
        "id": "oj-Z5RlW5joB"
      },
      "execution_count": 7,
      "outputs": []
    },
    {
      "cell_type": "code",
      "source": [
        "TRAIN_PATH = 'stage1_train/'"
      ],
      "metadata": {
        "id": "Ye6gZH0I5x6-"
      },
      "execution_count": 8,
      "outputs": []
    },
    {
      "cell_type": "code",
      "source": [
        "lenData = len(os.listdir(TRAIN_PATH))\n",
        "print(\"Total Number of Images: {}\".format(lenData))"
      ],
      "metadata": {
        "colab": {
          "base_uri": "https://localhost:8080/"
        },
        "id": "zt0l2rJ86ZNH",
        "outputId": "3ae759f8-6210-4ebb-fc4b-5cc25aa6f77c"
      },
      "execution_count": 9,
      "outputs": [
        {
          "output_type": "stream",
          "name": "stdout",
          "text": [
            "Total Number of Images: 670\n"
          ]
        }
      ]
    },
    {
      "cell_type": "code",
      "source": [
        "# Check whether there is any empty data directories\n",
        "dirList = glob.glob('stage1_train/*')\n",
        "countNull = 0\n",
        "nullDirList = []\n",
        "for dir in dirList:\n",
        "    lenDir = glob.glob(dir+'/*')\n",
        "    if lenDir==0:\n",
        "        countNull+=1\n",
        "        nullDirList.append(dir)\n",
        "\n",
        "print(\"Number of directory having no images: {}\".format(countNull))"
      ],
      "metadata": {
        "colab": {
          "base_uri": "https://localhost:8080/"
        },
        "id": "M2f1Q3g5tmat",
        "outputId": "2c305f82-0a94-4bd2-e2e6-43aa95e3926e"
      },
      "execution_count": 10,
      "outputs": [
        {
          "output_type": "stream",
          "name": "stdout",
          "text": [
            "Number of directory having no images: 0\n"
          ]
        }
      ]
    },
    {
      "cell_type": "code",
      "source": [
        "#Albumentation\n",
        "def get_train_transform():\n",
        "   return A.Compose(\n",
        "       [\n",
        "        A.Resize(256, 256),\n",
        "        A.Normalize(mean=(0.485, 0.456, 0.406), std=(0.229, 0.224, 0.225)),\n",
        "        A.HorizontalFlip(p=0.25),\n",
        "        A.VerticalFlip(p=0.25),\n",
        "        ToTensor()\n",
        "        ])\n",
        "   \n",
        "#Dataset Loader\n",
        "class LoadDataSet(Dataset):\n",
        "        def __init__(self,path, transform=None):\n",
        "            self.path = path\n",
        "            self.folders = os.listdir(path)\n",
        "            self.transforms = get_train_transform()\n",
        "        \n",
        "        def __len__(self):\n",
        "            return len(self.folders)\n",
        "              \n",
        "        \n",
        "        def __getitem__(self,idx):\n",
        "            image_folder = os.path.join(self.path,self.folders[idx],'images/')\n",
        "            mask_folder = os.path.join(self.path,self.folders[idx],'masks/')\n",
        "            image_path = os.path.join(image_folder,os.listdir(image_folder)[0])\n",
        "            \n",
        "            img = io.imread(image_path)[:,:,:3].astype('float32')\n",
        "            img = transform.resize(img,(128,128))\n",
        "            \n",
        "            mask = self.get_mask(mask_folder, 128, 128 ).astype('float32')\n",
        "\n",
        "            augmented = self.transforms(image=img, mask=mask)\n",
        "            img = augmented['image']\n",
        "            mask = augmented['mask']\n",
        "            mask = mask[0].permute(2, 0, 1)\n",
        "            return (img,mask) \n",
        "\n",
        "\n",
        "        def get_mask(self,mask_folder,IMG_HEIGHT, IMG_WIDTH):\n",
        "            mask = np.zeros((IMG_HEIGHT, IMG_WIDTH, 1), dtype=np.bool)\n",
        "            for mask_ in os.listdir(mask_folder):\n",
        "                    mask_ = io.imread(os.path.join(mask_folder,mask_))\n",
        "                    mask_ = transform.resize(mask_, (IMG_HEIGHT, IMG_WIDTH))\n",
        "                    mask_ = np.expand_dims(mask_,axis=-1)\n",
        "                    mask = np.maximum(mask, mask_)\n",
        "              \n",
        "            return mask"
      ],
      "metadata": {
        "id": "WCzjhpGA6hLw"
      },
      "execution_count": 11,
      "outputs": []
    },
    {
      "cell_type": "code",
      "source": [
        "train_dataset = LoadDataSet(TRAIN_PATH, transform=get_train_transform())"
      ],
      "metadata": {
        "id": "u4LDw38v7TEN"
      },
      "execution_count": 12,
      "outputs": []
    },
    {
      "cell_type": "code",
      "source": [
        "#Print the shape of image and mask\n",
        "image, mask = train_dataset.__getitem__(0)\n",
        "print(image.shape)\n",
        "print(mask.shape)"
      ],
      "metadata": {
        "colab": {
          "base_uri": "https://localhost:8080/"
        },
        "id": "qv7b9Q8W7W87",
        "outputId": "08f17423-71aa-4cc1-ceb0-f665d601bb97"
      },
      "execution_count": 13,
      "outputs": [
        {
          "output_type": "stream",
          "name": "stdout",
          "text": [
            "torch.Size([3, 256, 256])\n",
            "torch.Size([1, 256, 256])\n"
          ]
        }
      ]
    },
    {
      "cell_type": "code",
      "source": [
        "## Length of train dataset\n",
        "print(\"Number of Train dataset: {}\".format(train_dataset.__len__()))"
      ],
      "metadata": {
        "colab": {
          "base_uri": "https://localhost:8080/"
        },
        "id": "XfjmuZbg7bdY",
        "outputId": "2fa223ec-5d8c-43e4-eb1d-fdbeb6a8acd1"
      },
      "execution_count": 14,
      "outputs": [
        {
          "output_type": "stream",
          "name": "stdout",
          "text": [
            "Number of Train dataset: 670\n"
          ]
        }
      ]
    },
    {
      "cell_type": "code",
      "source": [
        "image"
      ],
      "metadata": {
        "colab": {
          "base_uri": "https://localhost:8080/"
        },
        "id": "w8Y2uE8F7ilo",
        "outputId": "91493758-e411-451f-985a-e7b55382bab6"
      },
      "execution_count": 15,
      "outputs": [
        {
          "output_type": "execute_result",
          "data": {
            "text/plain": [
              "tensor([[[-2.0087, -2.0082, -2.0071,  ..., -1.6098, -1.5997, -1.5946],\n",
              "         [-2.0084, -2.0079, -2.0070,  ..., -1.6067, -1.5994, -1.5957],\n",
              "         [-2.0077, -2.0075, -2.0069,  ..., -1.6005, -1.5987, -1.5978],\n",
              "         ...,\n",
              "         [-1.6608, -1.6669, -1.6789,  ..., -2.0191, -2.0190, -2.0189],\n",
              "         [-1.6764, -1.6807, -1.6895,  ..., -2.0169, -2.0185, -2.0192],\n",
              "         [-1.6841, -1.6877, -1.6948,  ..., -2.0158, -2.0182, -2.0194]],\n",
              "\n",
              "        [[-1.9241, -1.9235, -1.9224,  ..., -1.5162, -1.5059, -1.5008],\n",
              "         [-1.9237, -1.9233, -1.9224,  ..., -1.5131, -1.5056, -1.5019],\n",
              "         [-1.9231, -1.9228, -1.9223,  ..., -1.5068, -1.5049, -1.5040],\n",
              "         ...,\n",
              "         [-1.5685, -1.5746, -1.5870,  ..., -1.9347, -1.9346, -1.9345],\n",
              "         [-1.5843, -1.5888, -1.5977,  ..., -1.9325, -1.9340, -1.9348],\n",
              "         [-1.5923, -1.5959, -1.6031,  ..., -1.9314, -1.9338, -1.9350]],\n",
              "\n",
              "        [[-1.6933, -1.6927, -1.6916,  ..., -1.2873, -1.2770, -1.2719],\n",
              "         [-1.6930, -1.6925, -1.6916,  ..., -1.2841, -1.2767, -1.2730],\n",
              "         [-1.6923, -1.6920, -1.6915,  ..., -1.2779, -1.2760, -1.2751],\n",
              "         ...,\n",
              "         [-1.3393, -1.3454, -1.3577,  ..., -1.7039, -1.7038, -1.7037],\n",
              "         [-1.3551, -1.3595, -1.3684,  ..., -1.7017, -1.7032, -1.7040],\n",
              "         [-1.3630, -1.3666, -1.3738,  ..., -1.7006, -1.7030, -1.7042]]])"
            ]
          },
          "metadata": {},
          "execution_count": 15
        }
      ]
    },
    {
      "cell_type": "code",
      "source": [
        "mask"
      ],
      "metadata": {
        "colab": {
          "base_uri": "https://localhost:8080/"
        },
        "id": "wBpxlQl87yuB",
        "outputId": "707a2872-2a3a-4681-de3d-ff3f2d11258d"
      },
      "execution_count": 16,
      "outputs": [
        {
          "output_type": "execute_result",
          "data": {
            "text/plain": [
              "tensor([[[0., 0., 0.,  ..., 1., 1., 1.],\n",
              "         [0., 0., 0.,  ..., 1., 1., 1.],\n",
              "         [0., 0., 0.,  ..., 1., 1., 1.],\n",
              "         ...,\n",
              "         [1., 1., 1.,  ..., 0., 0., 0.],\n",
              "         [1., 1., 1.,  ..., 0., 0., 0.],\n",
              "         [1., 1., 1.,  ..., 0., 0., 0.]]])"
            ]
          },
          "metadata": {},
          "execution_count": 16
        }
      ]
    },
    {
      "cell_type": "code",
      "source": [
        "def format_image(img):\n",
        "    \"\"\"\n",
        "    Function to de-standardize the image\n",
        "    arg: Input Image\n",
        "    returns: De-standardized image\n",
        "    \"\"\"\n",
        "    img = np.array(np.transpose(img, (1,2,0)))\n",
        "    mean = np.array((0.485, 0.456, 0.406))\n",
        "    std = np.array((0.229, 0.224, 0.225))\n",
        "    img  = std * img + mean\n",
        "    img = img*255\n",
        "    img = img.astype(np.uint8)\n",
        "    return img\n",
        "\n",
        "def format_mask(mask):\n",
        "    \"\"\"\n",
        "    Function to reshape the mask\n",
        "    \"\"\"\n",
        "    mask = np.squeeze(np.transpose(mask, (1,2,0)))\n",
        "    return mask"
      ],
      "metadata": {
        "id": "kWAvNGrO70nJ"
      },
      "execution_count": 17,
      "outputs": []
    },
    {
      "cell_type": "code",
      "source": [
        "def visualize_dataset(n_images, predict=None):\n",
        "  \"\"\"\n",
        "  Function to visualize images and masks\n",
        "  \"\"\"\n",
        "  maxRange = train_dataset.__len__()\n",
        "  images = random.sample(range(0, maxRange), n_images)\n",
        "  figure, ax = plt.subplots(nrows=len(images), ncols=2, figsize=(5, 8))\n",
        "  print(images)\n",
        "  for i in range(0, len(images)):\n",
        "    img_no = images[i]\n",
        "    image, mask = train_dataset.__getitem__(img_no)\n",
        "    image = format_image(image)\n",
        "    mask = format_mask(mask)\n",
        "    ax[i, 0].imshow(image)\n",
        "    ax[i, 1].imshow(mask, interpolation=\"nearest\", cmap=\"gray\")\n",
        "    ax[i, 0].set_title(\"Ground Truth Image\")\n",
        "    ax[i, 1].set_title(\"Mask\")\n",
        "    ax[i, 0].set_axis_off()\n",
        "    ax[i, 1].set_axis_off()\n",
        "  plt.tight_layout()\n",
        "  plt.show()"
      ],
      "metadata": {
        "id": "Ocp_t6Ak87s2"
      },
      "execution_count": 18,
      "outputs": []
    },
    {
      "cell_type": "code",
      "source": [
        "visualize_dataset(3)"
      ],
      "metadata": {
        "colab": {
          "base_uri": "https://localhost:8080/",
          "height": 603
        },
        "id": "uYXwIaHn9IUf",
        "outputId": "ea3cab7b-749b-4898-e6ca-1ba084f06ccc"
      },
      "execution_count": 19,
      "outputs": [
        {
          "output_type": "stream",
          "name": "stdout",
          "text": [
            "[379, 201, 61]\n"
          ]
        },
        {
          "output_type": "display_data",
          "data": {
            "image/png": "[encoded data removed]",
            "text/plain": [
              "<Figure size 360x576 with 6 Axes>"
            ]
          },
          "metadata": {
            "needs_background": "light"
          }
        }
      ]
    },
    {
      "cell_type": "code",
      "source": [
        "## Split train and validation set.\n",
        "train_data, valid_data = random_split(train_dataset, [469, 201])\n",
        "\n",
        "train_loader = DataLoader(dataset=train_data, batch_size=10, shuffle=True)\n",
        "\n",
        "val_loader = DataLoader(dataset=valid_data, batch_size=10)"
      ],
      "metadata": {
        "id": "PJd9YBgC9Wv_"
      },
      "execution_count": 20,
      "outputs": []
    },
    {
      "cell_type": "markdown",
      "source": [
        "# Defining Model - Unet"
      ],
      "metadata": {
        "id": "1oAFoOwhv-Yg"
      }
    },
    {
      "cell_type": "code",
      "source": [
        "class double_conv(nn.Module):\n",
        "    '''\n",
        "    Double Convolution layer with both 2 BN and Activation Layer in between\n",
        "    Conv2d==>BN==>Activation==>Conv2d==>BN==>Activation\n",
        "    '''\n",
        "    def __init__(self, in_channel, out_channel):\n",
        "        super(double_conv, self).__init__()\n",
        "        self.conv = nn.Sequential(\n",
        "            nn.Conv2d(in_channel, out_channel, 3, padding=1),\n",
        "            nn.ReLU(inplace=True),\n",
        "            nn.BatchNorm2d(out_channel),\n",
        "            nn.Conv2d(out_channel, out_channel, 3, padding=1),\n",
        "            nn.ReLU(inplace=True),\n",
        "            nn.BatchNorm2d(out_channel)\n",
        "        )\n",
        "    def forward(self, x):\n",
        "        x = self.conv(x)\n",
        "        return x\n",
        "\n",
        "class down_conv(nn.Module):\n",
        "  '''\n",
        "  A maxpool layer followed by a Double Convolution.\n",
        "  MaxPool2d==>double_conv.\n",
        "  '''\n",
        "  def __init__(self, in_channel, out_channel):\n",
        "    super(down_conv, self).__init__()\n",
        "    self.down = nn.Sequential(\n",
        "        nn.MaxPool2d(2),\n",
        "        double_conv(in_channel, out_channel)\n",
        "    )\n",
        "  def forward(self, x):\n",
        "    x = self.down(x)\n",
        "    return x\n",
        "\n",
        "class up_sample(nn.Module):\n",
        "  def __init__(self, in_channel, out_channel):\n",
        "    super(up_sample, self).__init__()\n",
        "    self.up = nn.Upsample(scale_factor=2, mode='bilinear', align_corners=True)\n",
        "    self.double_conv = double_conv(in_channel, out_channel)\n",
        "\n",
        "  def forward(self, x1, x2):\n",
        "      x1 = self.up(x1)\n",
        "      x = torch.cat([x1, x2], dim=1)\n",
        "      x = self.double_conv(x)\n",
        "      return x\n",
        "\n",
        "class UNet(nn.Module):\n",
        "  '''Main Unet Model'''\n",
        "  def __init__(self, in_channel, out_channel):\n",
        "    super(UNet, self).__init__()\n",
        "    ## DownSampling Block\n",
        "    self.down_block1 = double_conv(in_channel, 16)\n",
        "    self.down_block2 = down_conv(16, 32)\n",
        "    self.down_block3 = down_conv(32, 64)\n",
        "    self.down_block4 = down_conv(64, 128)\n",
        "    self.down_block5 = down_conv(128, 256)\n",
        "    self.down_block6 = down_conv(256, 512)\n",
        "    self.down_block7 = down_conv(512, 1024)\n",
        "    ## UpSampling Block\n",
        "    self.up_block1 = up_sample(1024+512, 512)\n",
        "    self.up_block2 = up_sample(512+256, 256)\n",
        "    self.up_block3 = up_sample(256+128, 128)\n",
        "    self.up_block4 = up_sample(128+64, 64)\n",
        "    self.up_block5 = up_sample(64+32, 32)\n",
        "    self.up_block6 = up_sample(32+16, 16)\n",
        "    self.up_block7 = nn.Conv2d(16, out_channel, 1)\n",
        "\n",
        "\n",
        "  def forward(self, x):\n",
        "    #Down\n",
        "    x1 = self.down_block1(x)\n",
        "    x2 = self.down_block2(x1)\n",
        "    x3 = self.down_block3(x2)\n",
        "    x4 = self.down_block4(x3)\n",
        "    x5 = self.down_block5(x4)\n",
        "    x6 = self.down_block6(x5)\n",
        "    x7 = self.down_block7(x6)\n",
        "    #Up\n",
        "    x8 = self.up_block1(x7, x6)\n",
        "    x9 = self.up_block2(x8, x5)\n",
        "    x10 = self.up_block3(x9, x4)\n",
        "    x11 = self.up_block4(x10, x3)\n",
        "    x12 = self.up_block5(x11, x2)\n",
        "    x13 = self.up_block6(x12, x1)\n",
        "    x14 = self.up_block7(x13)\n",
        "    out = torch.sigmoid(x14)\n",
        "    return out"
      ],
      "metadata": {
        "id": "Jyhmmo4-v6MP"
      },
      "execution_count": 21,
      "outputs": []
    },
    {
      "cell_type": "markdown",
      "source": [
        "## Defining the Loss Function"
      ],
      "metadata": {
        "id": "_o38ZAyvwozC"
      }
    },
    {
      "cell_type": "code",
      "source": [
        "class DiceLoss(nn.Module):\n",
        "    def __init__(self, weight=None, size_average=True):\n",
        "        super(DiceLoss, self).__init__()\n",
        "\n",
        "    def forward(self, inputs, targets, smooth=1):\n",
        "        \n",
        "        #comment out if your model contains a sigmoid or equivalent activation layer\n",
        "        #inputs = F.sigmoid(inputs)       \n",
        "        \n",
        "        #flatten label and prediction tensors\n",
        "        inputs = inputs.view(-1)\n",
        "        targets = targets.view(-1)\n",
        "        \n",
        "        intersection = (inputs * targets).sum()                            \n",
        "        dice = (2.*intersection + smooth)/(inputs.sum() + targets.sum() + smooth)  \n",
        "        \n",
        "        return 1 - dice\n",
        "\n",
        "\n",
        "class IoU(nn.Module):\n",
        "    def __init__(self, weight=None, size_average=True):\n",
        "        super(IoU, self).__init__()\n",
        "\n",
        "    def forward(self, inputs, targets, smooth=1):\n",
        "        \n",
        "        #comment out if your model contains a sigmoid or equivalent activation layer\n",
        "        #inputs = F.sigmoid(inputs)       \n",
        "        \n",
        "        #flatten label and prediction tensors\n",
        "        inputs = inputs.view(-1)\n",
        "        targets = targets.view(-1)\n",
        "        \n",
        "        #intersection is equivalent to True Positive count\n",
        "        #union is the mutually inclusive area of all labels & predictions \n",
        "        intersection = (inputs * targets).sum()\n",
        "        total = (inputs + targets).sum()\n",
        "        union = total - intersection \n",
        "        \n",
        "        IoU = (intersection + smooth)/(union + smooth)\n",
        "                \n",
        "        return IoU"
      ],
      "metadata": {
        "id": "xQlT1lCUwg1I"
      },
      "execution_count": 22,
      "outputs": []
    },
    {
      "cell_type": "code",
      "source": [
        "model = UNet(3,1).cuda()\n",
        "optimizer = torch.optim.Adam(model.parameters(),lr = 1e-3)"
      ],
      "metadata": {
        "id": "WaEcMOkowvf6"
      },
      "execution_count": 23,
      "outputs": []
    },
    {
      "cell_type": "code",
      "source": [
        "def save_ckp(state, is_best, checkpoint_path, best_model_path):\n",
        "    \"\"\"\n",
        "    state: checkpoint we want to save\n",
        "    is_best: is this the best checkpoint; min validation loss\n",
        "    checkpoint_path: path to save checkpoint\n",
        "    best_model_path: path to save best model\n",
        "    \"\"\"\n",
        "    f_path = checkpoint_path\n",
        "    # save checkpoint data to the path given, checkpoint_path\n",
        "    torch.save(state, f_path)\n",
        "    # if it is a best model, min validation loss\n",
        "    if is_best:\n",
        "        best_fpath = best_model_path\n",
        "        # copy that checkpoint file to best path given, best_model_path\n",
        "        shutil.copyfile(f_path, best_fpath)\n",
        "\n",
        "def load_ckp(checkpoint_fpath, model, optimizer):\n",
        "    \"\"\"\n",
        "    checkpoint_path: path to save checkpoint\n",
        "    model: model that we want to load checkpoint parameters into       \n",
        "    optimizer: optimizer we defined in previous training\n",
        "    \"\"\"\n",
        "    # load check point\n",
        "    checkpoint = torch.load(checkpoint_fpath)\n",
        "    # initialize state_dict from checkpoint to model\n",
        "    model.load_state_dict(checkpoint['state_dict'])\n",
        "    # initialize optimizer from checkpoint to optimizer\n",
        "    optimizer.load_state_dict(checkpoint['optimizer'])\n",
        "    # initialize valid_loss_min from checkpoint to valid_loss_min\n",
        "    valid_loss_min = checkpoint['valid_loss_min']\n",
        "    # return model, optimizer, epoch value, min validation loss \n",
        "    return model, optimizer, checkpoint['epoch'], valid_loss_min.item()"
      ],
      "metadata": {
        "id": "EvMJ9WOLw92F"
      },
      "execution_count": 24,
      "outputs": []
    },
    {
      "cell_type": "markdown",
      "source": [
        "# Training"
      ],
      "metadata": {
        "id": "8MS0Lw7MxQW_"
      }
    },
    {
      "cell_type": "code",
      "source": [
        "weight_path = 'model_weights'\n",
        "if not os.path.exists(weight_path):\n",
        "    os.makedirs(weight_path)\n",
        "    print(\"Folder created successfully\")"
      ],
      "metadata": {
        "colab": {
          "base_uri": "https://localhost:8080/"
        },
        "id": "uI8zI4fQzX7I",
        "outputId": "8e138045-204b-4a47-9988-bd632471ac46"
      },
      "execution_count": 26,
      "outputs": [
        {
          "output_type": "stream",
          "name": "stdout",
          "text": [
            "Folder created successfully\n"
          ]
        }
      ]
    },
    {
      "cell_type": "code",
      "source": [
        "#from engine import evaluate\n",
        "criterion = DiceLoss()\n",
        "accuracy_metric = IoU()\n",
        "num_epochs=100\n",
        "valid_loss_min = np.Inf\n",
        "\n",
        "checkpoint_path = 'model_weights/chkpoint_'\n",
        "best_model_path = 'model_weights/bestmodel.pt'\n",
        "\n",
        "total_train_loss = []\n",
        "total_train_score = []\n",
        "total_valid_loss = []\n",
        "total_valid_score = []\n",
        "\n",
        "losses_value = 0\n",
        "for epoch in range(num_epochs):\n",
        "  \n",
        "    train_loss = []\n",
        "    train_score = []\n",
        "    valid_loss = []\n",
        "    valid_score = []\n",
        "    #<-----------Training Loop---------------------------->\n",
        "    pbar = tqdm(train_loader, desc = 'description')\n",
        "    for x_train, y_train in pbar:\n",
        "      x_train = torch.autograd.Variable(x_train).cuda()\n",
        "      y_train = torch.autograd.Variable(y_train).cuda()\n",
        "      optimizer.zero_grad()\n",
        "      output = model(x_train)\n",
        "      #Loss\n",
        "      loss = criterion(output, y_train)\n",
        "      losses_value = loss.item()\n",
        "      #Score\n",
        "      score = accuracy_metric(output,y_train)\n",
        "      loss.backward()\n",
        "      optimizer.step()\n",
        "      train_loss.append(losses_value)\n",
        "      train_score.append(score.item())\n",
        "      #train_score.append(score)\n",
        "      pbar.set_description(f\"Epoch: {epoch+1}, loss: {losses_value}, IoU: {score}\")\n",
        "\n",
        "    #<---------------Validation Loop---------------------->\n",
        "    with torch.no_grad():\n",
        "      for image,mask in val_loader:\n",
        "        image = torch.autograd.Variable(image).cuda()\n",
        "        mask = torch.autograd.Variable(mask).cuda()\n",
        "        output = model(image)\n",
        "        ## Compute Loss Value.\n",
        "        loss = criterion(output, mask)\n",
        "        losses_value = loss.item()\n",
        "        ## Compute Accuracy Score\n",
        "        score = accuracy_metric(output,mask)\n",
        "        valid_loss.append(losses_value)\n",
        "        valid_score.append(score.item())\n",
        "\n",
        "    total_train_loss.append(np.mean(train_loss))\n",
        "    total_train_score.append(np.mean(train_score))\n",
        "    total_valid_loss.append(np.mean(valid_loss))\n",
        "    total_valid_score.append(np.mean(valid_score))\n",
        "    print(f\"\\n###############Train Loss: {total_train_loss[-1]}, Train IOU: {total_train_score[-1]}###############\")\n",
        "    print(f\"###############Valid Loss: {total_valid_loss[-1]}, Valid IOU: {total_valid_score[-1]}###############\")\n",
        "\n",
        "    #Save best model Checkpoint\n",
        "    # create checkpoint variable and add important data\n",
        "    checkpoint = {\n",
        "        'epoch': epoch + 1,\n",
        "        'valid_loss_min': total_valid_loss[-1],\n",
        "        'state_dict': model.state_dict(),\n",
        "        'optimizer': optimizer.state_dict(),\n",
        "    }\n",
        "    \n",
        "    # save checkpoint\n",
        "    save_ckp(checkpoint, False, checkpoint_path, best_model_path)\n",
        "    \n",
        "    ## TODO: save the model if validation loss has decreased\n",
        "    if total_valid_loss[-1] <= valid_loss_min:\n",
        "        print('Validation loss decreased ({:.6f} --> {:.6f}).  Saving model ...'.format(valid_loss_min,total_valid_loss[-1]))\n",
        "        # save checkpoint as best model\n",
        "        save_ckp(checkpoint, True, checkpoint_path, best_model_path)\n",
        "        valid_loss_min = total_valid_loss[-1]"
      ],
      "metadata": {
        "colab": {
          "base_uri": "https://localhost:8080/"
        },
        "id": "HunXUn2xxFJ2",
        "outputId": "d6794abb-10f8-48b4-93d7-831df31b4594"
      },
      "execution_count": null,
      "outputs": [
        {
          "output_type": "stream",
          "name": "stderr",
          "text": [
            "Epoch: 1, loss: 0.5325528383255005, IoU: 0.30501359701156616: 100%|██████████| 47/47 [04:43<00:00,  6.03s/it]\n"
          ]
        },
        {
          "output_type": "stream",
          "name": "stdout",
          "text": [
            "\n",
            "###############Train Loss: 0.5526155347519732, Train IOU: 0.2923749659923797###############\n",
            "###############Valid Loss: 0.512385436466762, Valid IOU: 0.3296490240664709###############\n",
            "Validation loss decreased (inf --> 0.512385).  Saving model ...\n"
          ]
        },
        {
          "output_type": "stream",
          "name": "stderr",
          "text": [
            "Epoch: 2, loss: 0.40597665309906006, IoU: 0.4225004017353058: 100%|██████████| 47/47 [04:40<00:00,  5.97s/it]\n"
          ]
        },
        {
          "output_type": "stream",
          "name": "stdout",
          "text": [
            "\n",
            "###############Train Loss: 0.4478218289131814, Train IOU: 0.38571478933730025###############\n",
            "###############Valid Loss: 0.45141931374867755, Valid IOU: 0.38753828690165565###############\n",
            "Validation loss decreased (0.512385 --> 0.451419).  Saving model ...\n"
          ]
        },
        {
          "output_type": "stream",
          "name": "stderr",
          "text": [
            "Epoch: 3, loss: 0.3294668197631836, IoU: 0.5043644309043884: 100%|██████████| 47/47 [04:40<00:00,  5.98s/it]\n"
          ]
        },
        {
          "output_type": "stream",
          "name": "stdout",
          "text": [
            "\n",
            "###############Train Loss: 0.35537129640579224, Train IOU: 0.4820632002455123###############\n",
            "###############Valid Loss: 0.3353838523228963, Valid IOU: 0.5077616700104305###############\n",
            "Validation loss decreased (0.451419 --> 0.335384).  Saving model ...\n"
          ]
        },
        {
          "output_type": "stream",
          "name": "stderr",
          "text": [
            "Epoch: 4, loss: 0.20475095510482788, IoU: 0.6600953340530396: 100%|██████████| 47/47 [04:40<00:00,  5.97s/it]\n"
          ]
        },
        {
          "output_type": "stream",
          "name": "stdout",
          "text": [
            "\n",
            "###############Train Loss: 0.2701853374217419, Train IOU: 0.5784621283094934###############\n",
            "###############Valid Loss: 0.2835660803885687, Valid IOU: 0.5681320145016625###############\n",
            "Validation loss decreased (0.335384 --> 0.283566).  Saving model ...\n"
          ]
        },
        {
          "output_type": "stream",
          "name": "stderr",
          "text": [
            "Epoch: 5, loss: 0.1983109712600708, IoU: 0.6690172553062439: 100%|██████████| 47/47 [04:40<00:00,  5.98s/it]\n"
          ]
        },
        {
          "output_type": "stream",
          "name": "stdout",
          "text": [
            "\n",
            "###############Train Loss: 0.2404435822304259, Train IOU: 0.6214428693056107###############\n",
            "###############Valid Loss: 0.24056194509778703, Valid IOU: 0.6198813532079969###############\n",
            "Validation loss decreased (0.283566 --> 0.240562).  Saving model ...\n"
          ]
        },
        {
          "output_type": "stream",
          "name": "stderr",
          "text": [
            "Epoch: 6, loss: 0.30204689502716064, IoU: 0.5360457897186279: 100%|██████████| 47/47 [04:47<00:00,  6.11s/it]\n"
          ]
        },
        {
          "output_type": "stream",
          "name": "stdout",
          "text": [
            "\n",
            "###############Train Loss: 0.20725544843267887, Train IOU: 0.6601723540336528###############\n",
            "###############Valid Loss: 0.21923211926505679, Valid IOU: 0.6489664940606981###############\n",
            "Validation loss decreased (0.240562 --> 0.219232).  Saving model ...\n"
          ]
        },
        {
          "output_type": "stream",
          "name": "stderr",
          "text": [
            "Epoch: 7, loss: 0.21646267175674438, IoU: 0.6441124677658081: 100%|██████████| 47/47 [04:42<00:00,  6.01s/it]\n"
          ]
        },
        {
          "output_type": "stream",
          "name": "stdout",
          "text": [
            "\n",
            "###############Train Loss: 0.17896540621493726, Train IOU: 0.6985956037298162###############\n",
            "###############Valid Loss: 0.1953598658243815, Valid IOU: 0.6788303610824403###############\n",
            "Validation loss decreased (0.219232 --> 0.195360).  Saving model ...\n"
          ]
        },
        {
          "output_type": "stream",
          "name": "stderr",
          "text": [
            "Epoch: 8, loss: 0.22872132062911987, IoU: 0.6277104616165161: 100%|██████████| 47/47 [04:40<00:00,  5.96s/it]\n"
          ]
        },
        {
          "output_type": "stream",
          "name": "stdout",
          "text": [
            "\n",
            "###############Train Loss: 0.16703246375347705, Train IOU: 0.7158692656679356###############\n",
            "###############Valid Loss: 0.18678671973092215, Valid IOU: 0.691615206854684###############\n",
            "Validation loss decreased (0.195360 --> 0.186787).  Saving model ...\n"
          ]
        },
        {
          "output_type": "stream",
          "name": "stderr",
          "text": [
            "Epoch: 9, loss: 0.16611778736114502, IoU: 0.7150938510894775: 100%|██████████| 47/47 [04:39<00:00,  5.96s/it]\n"
          ]
        },
        {
          "output_type": "stream",
          "name": "stdout",
          "text": [
            "\n",
            "###############Train Loss: 0.1717706005624, Train IOU: 0.709479992694043###############\n",
            "###############Valid Loss: 0.18387683516456968, Valid IOU: 0.6955464028176808###############\n",
            "Validation loss decreased (0.186787 --> 0.183877).  Saving model ...\n"
          ]
        },
        {
          "output_type": "stream",
          "name": "stderr",
          "text": [
            "Epoch: 10, loss: 0.13154256343841553, IoU: 0.7674996852874756: 100%|██████████| 47/47 [04:41<00:00,  5.99s/it]\n"
          ]
        },
        {
          "output_type": "stream",
          "name": "stdout",
          "text": [
            "\n",
            "###############Train Loss: 0.1583384427618473, Train IOU: 0.7282241037551392###############\n",
            "###############Valid Loss: 0.16946097498848325, Valid IOU: 0.7149067663011097###############\n",
            "Validation loss decreased (0.183877 --> 0.169461).  Saving model ...\n"
          ]
        },
        {
          "output_type": "stream",
          "name": "stderr",
          "text": [
            "Epoch: 11, loss: 0.16051697731018066, IoU: 0.7233712077140808: 100%|██████████| 47/47 [04:40<00:00,  5.96s/it]\n"
          ]
        },
        {
          "output_type": "stream",
          "name": "stdout",
          "text": [
            "\n",
            "###############Train Loss: 0.16501791046020833, Train IOU: 0.7188177565310864###############\n",
            "###############Valid Loss: 0.1847695821807498, Valid IOU: 0.6915582787422907###############\n"
          ]
        },
        {
          "output_type": "stream",
          "name": "stderr",
          "text": [
            "Epoch: 12, loss: 0.23828274011611938, IoU: 0.6151418685913086: 100%|██████████| 47/47 [04:39<00:00,  5.94s/it]\n"
          ]
        },
        {
          "output_type": "stream",
          "name": "stdout",
          "text": [
            "\n",
            "###############Train Loss: 0.17458610204940148, Train IOU: 0.7057541088855013###############\n",
            "###############Valid Loss: 0.19119643029712496, Valid IOU: 0.6850871571472713###############\n"
          ]
        },
        {
          "output_type": "stream",
          "name": "stderr",
          "text": [
            "Epoch: 13, loss: 0.1278325319290161, IoU: 0.7733137607574463: 100%|██████████| 47/47 [04:37<00:00,  5.91s/it]\n"
          ]
        },
        {
          "output_type": "stream",
          "name": "stdout",
          "text": [
            "\n",
            "###############Train Loss: 0.15846961990315864, Train IOU: 0.7283003609231178###############\n",
            "###############Valid Loss: 0.18188888969875516, Valid IOU: 0.6980639298756918###############\n"
          ]
        },
        {
          "output_type": "stream",
          "name": "stderr",
          "text": [
            "Epoch: 14, loss: 0.17872005701065063, IoU: 0.696757435798645: 100%|██████████| 47/47 [04:39<00:00,  5.96s/it]\n"
          ]
        },
        {
          "output_type": "stream",
          "name": "stdout",
          "text": [
            "\n",
            "###############Train Loss: 0.17744650485667776, Train IOU: 0.7024399606471367###############\n",
            "###############Valid Loss: 0.1892551893279666, Valid IOU: 0.6861532316321418###############\n"
          ]
        },
        {
          "output_type": "stream",
          "name": "stderr",
          "text": [
            "Epoch: 15, loss: 0.1849406361579895, IoU: 0.6878493428230286: 100%|██████████| 47/47 [04:38<00:00,  5.92s/it]\n"
          ]
        },
        {
          "output_type": "stream",
          "name": "stdout",
          "text": [
            "\n",
            "###############Train Loss: 0.17084103695889738, Train IOU: 0.7098731449309815###############\n",
            "###############Valid Loss: 0.1833982751483009, Valid IOU: 0.6936623624392918###############\n"
          ]
        },
        {
          "output_type": "stream",
          "name": "stderr",
          "text": [
            "Epoch: 16, loss: 0.167810320854187, IoU: 0.712608277797699: 100%|██████████| 47/47 [04:38<00:00,  5.92s/it]\n"
          ]
        },
        {
          "output_type": "stream",
          "name": "stdout",
          "text": [
            "\n",
            "###############Train Loss: 0.15945704566671492, Train IOU: 0.7266468710087716###############\n",
            "###############Valid Loss: 0.1676889487675258, Valid IOU: 0.7163475255171458###############\n",
            "Validation loss decreased (0.169461 --> 0.167689).  Saving model ...\n"
          ]
        },
        {
          "output_type": "stream",
          "name": "stderr",
          "text": [
            "Epoch: 17, loss: 0.14434796571731567, IoU: 0.7477210760116577: 100%|██████████| 47/47 [04:38<00:00,  5.92s/it]\n"
          ]
        },
        {
          "output_type": "stream",
          "name": "stdout",
          "text": [
            "\n",
            "###############Train Loss: 0.15326041744110433, Train IOU: 0.7357447312233296###############\n",
            "###############Valid Loss: 0.1699762429509844, Valid IOU: 0.7139564184915452###############\n"
          ]
        },
        {
          "output_type": "stream",
          "name": "stderr",
          "text": [
            "Epoch: 18, loss: 0.11498314142227173, IoU: 0.7937499284744263: 100%|██████████| 47/47 [04:37<00:00,  5.91s/it]\n"
          ]
        },
        {
          "output_type": "stream",
          "name": "stdout",
          "text": [
            "\n",
            "###############Train Loss: 0.1450727683432559, Train IOU: 0.7475922779834017###############\n",
            "###############Valid Loss: 0.1614654404776437, Valid IOU: 0.7256658063048408###############\n",
            "Validation loss decreased (0.167689 --> 0.161465).  Saving model ...\n"
          ]
        },
        {
          "output_type": "stream",
          "name": "stderr",
          "text": [
            "Epoch: 19, loss: 0.17289167642593384, IoU: 0.7051888704299927: 100%|██████████| 47/47 [04:38<00:00,  5.92s/it]\n"
          ]
        },
        {
          "output_type": "stream",
          "name": "stdout",
          "text": [
            "\n",
            "###############Train Loss: 0.14973228155298435, Train IOU: 0.7422436989368276###############\n",
            "###############Valid Loss: 0.1662626209713164, Valid IOU: 0.7188577765510196###############\n"
          ]
        },
        {
          "output_type": "stream",
          "name": "stderr",
          "text": [
            "Epoch: 20, loss: 0.08919757604598999, IoU: 0.8362147212028503: 100%|██████████| 47/47 [04:39<00:00,  5.95s/it]\n"
          ]
        },
        {
          "output_type": "stream",
          "name": "stdout",
          "text": [
            "\n",
            "###############Train Loss: 0.14911040093036407, Train IOU: 0.7423191070556641###############\n",
            "###############Valid Loss: 0.15805305185772123, Valid IOU: 0.730531564780644###############\n",
            "Validation loss decreased (0.161465 --> 0.158053).  Saving model ...\n"
          ]
        },
        {
          "output_type": "stream",
          "name": "stderr",
          "text": [
            "Epoch: 21, loss: 0.13320010900497437, IoU: 0.7649145126342773: 100%|██████████| 47/47 [04:39<00:00,  5.95s/it]\n"
          ]
        },
        {
          "output_type": "stream",
          "name": "stdout",
          "text": [
            "\n",
            "###############Train Loss: 0.14594852797528532, Train IOU: 0.7472939313726222###############\n",
            "###############Valid Loss: 0.1542547032946632, Valid IOU: 0.7363253122284299###############\n",
            "Validation loss decreased (0.158053 --> 0.154255).  Saving model ...\n"
          ]
        },
        {
          "output_type": "stream",
          "name": "stderr",
          "text": [
            "Epoch: 22, loss: 0.1433590054512024, IoU: 0.7492331862449646: 100%|██████████| 47/47 [04:39<00:00,  5.95s/it]\n"
          ]
        },
        {
          "output_type": "stream",
          "name": "stdout",
          "text": [
            "\n",
            "###############Train Loss: 0.14767498412030808, Train IOU: 0.7441837597400585###############\n",
            "###############Valid Loss: 0.1521799195380438, Valid IOU: 0.7392374348072779###############\n",
            "Validation loss decreased (0.154255 --> 0.152180).  Saving model ...\n"
          ]
        },
        {
          "output_type": "stream",
          "name": "stderr",
          "text": [
            "Epoch: 23, loss: 0.09121984243392944, IoU: 0.8328123688697815: 100%|██████████| 47/47 [04:39<00:00,  5.96s/it]\n"
          ]
        },
        {
          "output_type": "stream",
          "name": "stdout",
          "text": [
            "\n",
            "###############Train Loss: 0.13759175133197865, Train IOU: 0.759226031759952###############\n",
            "###############Valid Loss: 0.1560769478480021, Valid IOU: 0.7339329790501368###############\n"
          ]
        },
        {
          "output_type": "stream",
          "name": "stderr",
          "text": [
            "Epoch: 24, loss: 0.1485629677772522, IoU: 0.7413082122802734: 100%|██████████| 47/47 [04:44<00:00,  6.06s/it]\n"
          ]
        },
        {
          "output_type": "stream",
          "name": "stdout",
          "text": [
            "\n",
            "###############Train Loss: 0.13868143076592304, Train IOU: 0.7577316228379595###############\n",
            "###############Valid Loss: 0.14825937009993054, Valid IOU: 0.7453220089276632###############\n",
            "Validation loss decreased (0.152180 --> 0.148259).  Saving model ...\n"
          ]
        },
        {
          "output_type": "stream",
          "name": "stderr",
          "text": [
            "Epoch: 25, loss: 0.16652297973632812, IoU: 0.7144989967346191: 100%|██████████| 47/47 [04:39<00:00,  5.95s/it]\n"
          ]
        },
        {
          "output_type": "stream",
          "name": "stdout",
          "text": [
            "\n",
            "###############Train Loss: 0.1343537340772913, Train IOU: 0.7640216743692438###############\n",
            "###############Valid Loss: 0.15172400928678967, Valid IOU: 0.7384229643004281###############\n"
          ]
        },
        {
          "output_type": "stream",
          "name": "stderr",
          "text": [
            "Epoch: 26, loss: 0.12132054567337036, IoU: 0.7836129665374756: 100%|██████████| 47/47 [04:38<00:00,  5.93s/it]\n"
          ]
        },
        {
          "output_type": "stream",
          "name": "stdout",
          "text": [
            "\n",
            "###############Train Loss: 0.13470647436507205, Train IOU: 0.7633295401613763###############\n",
            "###############Valid Loss: 0.14545902467909314, Valid IOU: 0.7484073298318046###############\n",
            "Validation loss decreased (0.148259 --> 0.145459).  Saving model ...\n"
          ]
        },
        {
          "output_type": "stream",
          "name": "stderr",
          "text": [
            "Epoch: 27, loss: 0.15762895345687866, IoU: 0.727671205997467: 100%|██████████| 47/47 [04:39<00:00,  5.95s/it]\n"
          ]
        },
        {
          "output_type": "stream",
          "name": "stdout",
          "text": [
            "\n",
            "###############Train Loss: 0.1332443914514907, Train IOU: 0.7658904435786795###############\n",
            "###############Valid Loss: 0.14717943327767508, Valid IOU: 0.7468624711036682###############\n"
          ]
        },
        {
          "output_type": "stream",
          "name": "stderr",
          "text": [
            "Epoch: 28, loss: 0.131212055683136, IoU: 0.7680161595344543: 100%|██████████| 47/47 [04:39<00:00,  5.94s/it]\n"
          ]
        },
        {
          "output_type": "stream",
          "name": "stdout",
          "text": [
            "\n",
            "###############Train Loss: 0.13473271309061252, Train IOU: 0.7633993689050066###############\n",
            "###############Valid Loss: 0.15257653452101208, Valid IOU: 0.7375155062902541###############\n"
          ]
        },
        {
          "output_type": "stream",
          "name": "stderr",
          "text": [
            "Epoch: 29, loss: 0.14694756269454956, IoU: 0.7437602877616882: 100%|██████████| 47/47 [04:39<00:00,  5.95s/it]\n"
          ]
        },
        {
          "output_type": "stream",
          "name": "stdout",
          "text": [
            "\n",
            "###############Train Loss: 0.14554237178031434, Train IOU: 0.7472718903358947###############\n",
            "###############Valid Loss: 0.1650591492652893, Valid IOU: 0.7193221932365781###############\n"
          ]
        },
        {
          "output_type": "stream",
          "name": "stderr",
          "text": [
            "Epoch: 30, loss: 0.15935862064361572, IoU: 0.7250931859016418: 100%|██████████| 47/47 [04:39<00:00,  5.95s/it]\n"
          ]
        },
        {
          "output_type": "stream",
          "name": "stdout",
          "text": [
            "\n",
            "###############Train Loss: 0.14035604355183054, Train IOU: 0.7552654578330669###############\n",
            "###############Valid Loss: 0.14888421978269303, Valid IOU: 0.7439709859234946###############\n"
          ]
        },
        {
          "output_type": "stream",
          "name": "stderr",
          "text": [
            "Epoch: 31, loss: 0.14570075273513794, IoU: 0.7456583380699158: 100%|██████████| 47/47 [04:43<00:00,  6.03s/it]\n"
          ]
        },
        {
          "output_type": "stream",
          "name": "stdout",
          "text": [
            "\n",
            "###############Train Loss: 0.138231394138742, Train IOU: 0.7579148690751258###############\n",
            "###############Valid Loss: 0.14718665395464217, Valid IOU: 0.7469390871978941###############\n"
          ]
        },
        {
          "output_type": "stream",
          "name": "stderr",
          "text": [
            "Epoch: 32, loss: 0.2542838454246521, IoU: 0.594537615776062: 100%|██████████| 47/47 [04:41<00:00,  6.00s/it]\n"
          ]
        }
      ]
    },
    {
      "cell_type": "markdown",
      "source": [
        "## Visualization"
      ],
      "metadata": {
        "id": "CLgiv9fKuZm9"
      }
    },
    {
      "cell_type": "code",
      "source": [
        "import seaborn as sns\n",
        "\n",
        "plt.figure(1)\n",
        "plt.figure(figsize=(15,5))\n",
        "sns.set_style(style=\"darkgrid\")\n",
        "plt.subplot(1, 2, 1)\n",
        "sns.lineplot(x=range(1,101), y=total_train_loss, label=\"Train Loss\")\n",
        "sns.lineplot(x=range(1,101), y=total_valid_loss, label=\"Valid Loss\")\n",
        "plt.title(\"Loss\")\n",
        "plt.xlabel(\"epochs\")\n",
        "plt.ylabel(\"DiceLoss\")\n",
        "\n",
        "plt.subplot(1, 2, 2)\n",
        "sns.lineplot(x=range(1,101), y=total_train_score, label=\"Train Score\")\n",
        "sns.lineplot(x=range(1,101), y=total_valid_score, label=\"Valid Score\")\n",
        "plt.title(\"Score (IoU)\")\n",
        "plt.xlabel(\"epochs\")\n",
        "plt.ylabel(\"IoU\")\n",
        "plt.show()"
      ],
      "metadata": {
        "colab": {
          "base_uri": "https://localhost:8080/",
          "height": 235
        },
        "id": "9H02AEkf0HGW",
        "outputId": "c16960f6-8ca6-49aa-adf8-af7e07f89a9a"
      },
      "execution_count": 1,
      "outputs": [
        {
          "output_type": "error",
          "ename": "NameError",
          "evalue": "ignored",
          "traceback": [
            "\u001b[0;31m---------------------------------------------------------------------------\u001b[0m",
            "\u001b[0;31mNameError\u001b[0m                                 Traceback (most recent call last)",
            "\u001b[0;32m<ipython-input-1-01fe8884f943>\u001b[0m in \u001b[0;36m<module>\u001b[0;34m()\u001b[0m\n\u001b[1;32m      1\u001b[0m \u001b[0;32mimport\u001b[0m \u001b[0mseaborn\u001b[0m \u001b[0;32mas\u001b[0m \u001b[0msns\u001b[0m\u001b[0;34m\u001b[0m\u001b[0;34m\u001b[0m\u001b[0m\n\u001b[1;32m      2\u001b[0m \u001b[0;34m\u001b[0m\u001b[0m\n\u001b[0;32m----> 3\u001b[0;31m \u001b[0mplt\u001b[0m\u001b[0;34m.\u001b[0m\u001b[0mfigure\u001b[0m\u001b[0;34m(\u001b[0m\u001b[0;36m1\u001b[0m\u001b[0;34m)\u001b[0m\u001b[0;34m\u001b[0m\u001b[0;34m\u001b[0m\u001b[0m\n\u001b[0m\u001b[1;32m      4\u001b[0m \u001b[0mplt\u001b[0m\u001b[0;34m.\u001b[0m\u001b[0mfigure\u001b[0m\u001b[0;34m(\u001b[0m\u001b[0mfigsize\u001b[0m\u001b[0;34m=\u001b[0m\u001b[0;34m(\u001b[0m\u001b[0;36m15\u001b[0m\u001b[0;34m,\u001b[0m\u001b[0;36m5\u001b[0m\u001b[0;34m)\u001b[0m\u001b[0;34m)\u001b[0m\u001b[0;34m\u001b[0m\u001b[0;34m\u001b[0m\u001b[0m\n\u001b[1;32m      5\u001b[0m \u001b[0msns\u001b[0m\u001b[0;34m.\u001b[0m\u001b[0mset_style\u001b[0m\u001b[0;34m(\u001b[0m\u001b[0mstyle\u001b[0m\u001b[0;34m=\u001b[0m\u001b[0;34m\"darkgrid\"\u001b[0m\u001b[0;34m)\u001b[0m\u001b[0;34m\u001b[0m\u001b[0;34m\u001b[0m\u001b[0m\n",
            "\u001b[0;31mNameError\u001b[0m: name 'plt' is not defined"
          ]
        }
      ]
    },
    {
      "cell_type": "markdown",
      "source": [
        "# Inference"
      ],
      "metadata": {
        "id": "fZTGk-haugD9"
      }
    },
    {
      "cell_type": "code",
      "source": [
        "#loading the saved model\n",
        "model, optimizer, start_epoch, valid_loss_min = load_ckp(checkpoint_path, model, optimizer)"
      ],
      "metadata": {
        "id": "sYT2jwefud_j"
      },
      "execution_count": null,
      "outputs": []
    },
    {
      "cell_type": "code",
      "source": [
        "def visualize_predict(model, n_images):\n",
        "  #model = model.eval()\n",
        "  figure, ax = plt.subplots(nrows=n_images, ncols=3, figsize=(15, 18))\n",
        "  with torch.no_grad():\n",
        "    for data,mask in val_loader:\n",
        "        data = torch.autograd.Variable(data, volatile=True).cuda()\n",
        "        mask = torch.autograd.Variable(mask, volatile=True).cuda()\n",
        "        o = model(data)\n",
        "        break\n",
        "  for img_no in range(0, n_images):\n",
        "    tm=o[img_no][0].data.cpu().numpy()\n",
        "    img = data[img_no].data.cpu()\n",
        "    msk = mask[img_no].data.cpu()\n",
        "    img = format_image(img)\n",
        "    msk = format_mask(msk)\n",
        "    ax[img_no, 0].imshow(img)\n",
        "    ax[img_no, 1].imshow(msk, interpolation=\"nearest\", cmap=\"gray\")\n",
        "    ax[img_no, 2].imshow(tm, interpolation=\"nearest\", cmap=\"gray\")\n",
        "    ax[img_no, 0].set_title(\"Ground Truth Image\")\n",
        "    ax[img_no, 1].set_title(\"Ground Truth Mask\")\n",
        "    ax[img_no, 2].set_title(\"Predicted Mask\")\n",
        "    ax[img_no, 0].set_axis_off()\n",
        "    ax[img_no, 1].set_axis_off()\n",
        "    ax[img_no, 2].set_axis_off()\n",
        "  plt.tight_layout()\n",
        "  plt.show()"
      ],
      "metadata": {
        "id": "8VD1Vov6uxqI"
      },
      "execution_count": null,
      "outputs": []
    },
    {
      "cell_type": "code",
      "source": [
        "visualize_predict(model, 6)"
      ],
      "metadata": {
        "id": "it7uTgw2uzNp"
      },
      "execution_count": null,
      "outputs": []
    },
    {
      "cell_type": "code",
      "source": [
        ""
      ],
      "metadata": {
        "id": "ris4jVi8u1Es"
      },
      "execution_count": null,
      "outputs": []
    }
  ]
}